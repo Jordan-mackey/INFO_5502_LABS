{
  "cells": [
    {
      "cell_type": "markdown",
      "metadata": {
        "id": "view-in-github",
        "colab_type": "text"
      },
      "source": [
        "<a href=\"https://colab.research.google.com/github/Jordan-mackey/INFO_5502_LABS/blob/main/lab_assignment_04_Jordan_Mackey.ipynb\" target=\"_parent\"><img src=\"https://colab.research.google.com/assets/colab-badge.svg\" alt=\"Open In Colab\"/></a>"
      ]
    },
    {
      "cell_type": "markdown",
      "metadata": {
        "id": "39HIcwQanSYB"
      },
      "source": [
        "## The fourth Lab-assignment (07/26/2022 11:59'AM' - 07/29/2022 11:59PM, 50 points in total)"
      ]
    },
    {
      "cell_type": "markdown",
      "metadata": {
        "id": "-Pu8rT4JnSYC"
      },
      "source": [
        "The purpose of this exercise is to understand Exploratory Data Analysis, we will practice the EDA by working on multiple datasets which have different characteristics."
      ]
    },
    {
      "cell_type": "markdown",
      "metadata": {
        "id": "i9z-Lm_KnSYC"
      },
      "source": [
        "Question 1 (10 points). Understand a text corpus for domain-specific text classification. Download the dataset from the following link: https://osf.io/8mjcy/ . Conduct EDA of the dataset from the following aspects:\n",
        "\n",
        "(1) How many categories in total?\n",
        "\n",
        "(2) How many documents under each category?\n"
      ]
    },
    {
      "cell_type": "code",
      "source": [
        "# Your code and explanation here\n",
        "\n",
        "# mount to Google Drive\n",
        "from google.colab import drive\n",
        "drive.mount('/content/drive')\n",
        "\n",
        "# unzip file from Drive\n",
        "!unzip /content/drive/MyDrive/lab_4_files.zip\n",
        "\n",
        "\n"
      ],
      "metadata": {
        "id": "qlo7u7tY42eX"
      },
      "execution_count": null,
      "outputs": []
    },
    {
      "cell_type": "code",
      "source": [
        "\n",
        "# import libraries\n",
        "import numpy as np\n",
        "import pandas as pd\n",
        "import os\n",
        "\n",
        "# find number of subfolders\n",
        "print('number of categories: ', len(next(os.walk('/content/preprocessed_cases[cases_29404]'))[1]))\n",
        "\n",
        "# find number of documents under each category\n",
        "for path, category_name, file_names in os.walk('/content/preprocessed_cases[cases_29404]'):\n",
        "  x = len(file_names)\n",
        "  print('Number of files in ', path, ': ', x)"
      ],
      "metadata": {
        "colab": {
          "base_uri": "https://localhost:8080/"
        },
        "id": "GUc2mkIHBucb",
        "outputId": "1d3a4d76-3b17-4a9c-fc84-7d401ad036b8"
      },
      "execution_count": 2,
      "outputs": [
        {
          "output_type": "stream",
          "name": "stdout",
          "text": [
            "number of categories:  76\n",
            "Number of files in  /content/preprocessed_cases[cases_29404] :  0\n",
            "Number of files in  /content/preprocessed_cases[cases_29404]/56 :  395\n",
            "Number of files in  /content/preprocessed_cases[cases_29404]/60 :  42\n",
            "Number of files in  /content/preprocessed_cases[cases_29404]/31 :  516\n",
            "Number of files in  /content/preprocessed_cases[cases_29404]/45 :  1085\n",
            "Number of files in  /content/preprocessed_cases[cases_29404]/5 :  751\n",
            "Number of files in  /content/preprocessed_cases[cases_29404]/54 :  95\n",
            "Number of files in  /content/preprocessed_cases[cases_29404]/16 :  826\n",
            "Number of files in  /content/preprocessed_cases[cases_29404]/6 :  380\n",
            "Number of files in  /content/preprocessed_cases[cases_29404]/21 :  735\n",
            "Number of files in  /content/preprocessed_cases[cases_29404]/34 :  786\n",
            "Number of files in  /content/preprocessed_cases[cases_29404]/53 :  142\n",
            "Number of files in  /content/preprocessed_cases[cases_29404]/28 :  315\n",
            "Number of files in  /content/preprocessed_cases[cases_29404]/36 :  889\n",
            "Number of files in  /content/preprocessed_cases[cases_29404]/19 :  349\n",
            "Number of files in  /content/preprocessed_cases[cases_29404]/71 :  457\n",
            "Number of files in  /content/preprocessed_cases[cases_29404]/3 :  184\n",
            "Number of files in  /content/preprocessed_cases[cases_29404]/44 :  825\n",
            "Number of files in  /content/preprocessed_cases[cases_29404]/55 :  48\n",
            "Number of files in  /content/preprocessed_cases[cases_29404]/1 :  775\n",
            "Number of files in  /content/preprocessed_cases[cases_29404]/2 :  179\n",
            "Number of files in  /content/preprocessed_cases[cases_29404]/33 :  272\n",
            "Number of files in  /content/preprocessed_cases[cases_29404]/66 :  207\n",
            "Number of files in  /content/preprocessed_cases[cases_29404]/22 :  284\n",
            "Number of files in  /content/preprocessed_cases[cases_29404]/20 :  1129\n",
            "Number of files in  /content/preprocessed_cases[cases_29404]/10 :  584\n",
            "Number of files in  /content/preprocessed_cases[cases_29404]/77 :  146\n",
            "Number of files in  /content/preprocessed_cases[cases_29404]/24 :  628\n",
            "Number of files in  /content/preprocessed_cases[cases_29404]/63 :  194\n",
            "Number of files in  /content/preprocessed_cases[cases_29404]/35 :  68\n",
            "Number of files in  /content/preprocessed_cases[cases_29404]/15 :  257\n",
            "Number of files in  /content/preprocessed_cases[cases_29404]/50 :  68\n",
            "Number of files in  /content/preprocessed_cases[cases_29404]/41 :  1020\n",
            "Number of files in  /content/preprocessed_cases[cases_29404]/73 :  705\n",
            "Number of files in  /content/preprocessed_cases[cases_29404]/25 :  244\n",
            "Number of files in  /content/preprocessed_cases[cases_29404]/74 :  60\n",
            "Number of files in  /content/preprocessed_cases[cases_29404]/7 :  621\n",
            "Number of files in  /content/preprocessed_cases[cases_29404]/37 :  74\n",
            "Number of files in  /content/preprocessed_cases[cases_29404]/9 :  744\n",
            "Number of files in  /content/preprocessed_cases[cases_29404]/13 :  458\n",
            "Number of files in  /content/preprocessed_cases[cases_29404]/42 :  1292\n",
            "Number of files in  /content/preprocessed_cases[cases_29404]/67 :  356\n",
            "Number of files in  /content/preprocessed_cases[cases_29404]/51 :  225\n",
            "Number of files in  /content/preprocessed_cases[cases_29404]/58 :  150\n",
            "Number of files in  /content/preprocessed_cases[cases_29404]/47 :  151\n",
            "Number of files in  /content/preprocessed_cases[cases_29404]/69 :  700\n",
            "Number of files in  /content/preprocessed_cases[cases_29404]/18 :  509\n",
            "Number of files in  /content/preprocessed_cases[cases_29404]/32 :  118\n",
            "Number of files in  /content/preprocessed_cases[cases_29404]/62 :  218\n",
            "Number of files in  /content/preprocessed_cases[cases_29404]/8 :  521\n",
            "Number of files in  /content/preprocessed_cases[cases_29404]/27 :  77\n",
            "Number of files in  /content/preprocessed_cases[cases_29404]/43 :  234\n",
            "Number of files in  /content/preprocessed_cases[cases_29404]/14 :  277\n",
            "Number of files in  /content/preprocessed_cases[cases_29404]/39 :  261\n",
            "Number of files in  /content/preprocessed_cases[cases_29404]/40 :  510\n",
            "Number of files in  /content/preprocessed_cases[cases_29404]/17 :  125\n",
            "Number of files in  /content/preprocessed_cases[cases_29404]/11 :  605\n",
            "Number of files in  /content/preprocessed_cases[cases_29404]/57 :  108\n",
            "Number of files in  /content/preprocessed_cases[cases_29404]/65 :  276\n",
            "Number of files in  /content/preprocessed_cases[cases_29404]/61 :  181\n",
            "Number of files in  /content/preprocessed_cases[cases_29404]/75 :  473\n",
            "Number of files in  /content/preprocessed_cases[cases_29404]/38 :  503\n",
            "Number of files in  /content/preprocessed_cases[cases_29404]/59 :  51\n",
            "Number of files in  /content/preprocessed_cases[cases_29404]/29 :  213\n",
            "Number of files in  /content/preprocessed_cases[cases_29404]/78 :  242\n",
            "Number of files in  /content/preprocessed_cases[cases_29404]/52 :  318\n",
            "Number of files in  /content/preprocessed_cases[cases_29404]/72 :  74\n",
            "Number of files in  /content/preprocessed_cases[cases_29404]/12 :  275\n",
            "Number of files in  /content/preprocessed_cases[cases_29404]/64 :  130\n",
            "Number of files in  /content/preprocessed_cases[cases_29404]/30 :  881\n",
            "Number of files in  /content/preprocessed_cases[cases_29404]/49 :  17\n",
            "Number of files in  /content/preprocessed_cases[cases_29404]/68 :  263\n",
            "Number of files in  /content/preprocessed_cases[cases_29404]/70 :  192\n",
            "Number of files in  /content/preprocessed_cases[cases_29404]/76 :  177\n",
            "Number of files in  /content/preprocessed_cases[cases_29404]/4 :  231\n",
            "Number of files in  /content/preprocessed_cases[cases_29404]/26 :  754\n",
            "Number of files in  /content/preprocessed_cases[cases_29404]/23 :  179\n"
          ]
        }
      ]
    },
    {
      "cell_type": "markdown",
      "metadata": {
        "id": "A97EuBAwnSYD"
      },
      "source": [
        "Question 2 (40 points). Continue practicing how to do simple exploratory data analysis with Python. The dataset that has been used in this question is called Student Academics Performance Data Set, which can be downloaded at: https://github.com/suthapalliuday/INFO5502-Summer2022/blob/main/datasets/lab-assignment-04-student-performance.csv . Please conduct the following analysis:\n",
        "\n",
        "(1) Description of all the columns: for each colmun, count number of rows, number of unqiue element, the frequency of each unqiue element. \n",
        "\n",
        "\n",
        "(2)  Visualize the count for each value in the 'Study Hours' column. Note: Study Hours values comes from this >= 6 hours Good >= 4 hours Average < 2 hours Poor.\n",
        "\n",
        "(3) Using factorplot to show the relationship between numerical and categorical value. Please use figure to show relation between [Study Hours] and [End Semester Percentage]. Percentage is calculated based on the following:\n",
        "\n",
        "if percentage >=80 then Best\n",
        "If percentage >= 60 but less than 80 then Very Good\n",
        "If percentage >= 45 but less than 60 then Good\n",
        "If Percentage >= 30 but less than 45 then Pass\n",
        "If Percentage < 30 then Fail\n",
        "\n",
        "(4) Get the correlation from the data, then plug it to heatmap function and show it as following:\n",
        "\n"
      ]
    },
    {
      "cell_type": "markdown",
      "metadata": {
        "id": "3tZgJ50knSYD"
      },
      "source": [
        "# Your answer here (code + explanation):\n",
        "\n",
        "\n",
        "\n",
        "\n",
        "\n",
        "\n"
      ]
    },
    {
      "cell_type": "code",
      "source": [
        "# Import necessary libraries\n",
        "import requests\n",
        "import io\n",
        "    \n",
        "# Downloading the csv file from your GitHub account\n",
        "url = \"https://raw.githubusercontent.com/suthapalliuday/INFO5502-Summer2022/main/datasets/lab-assignment-04-student-performance.csv\"# Make sure the url is the raw version of the file on GitHub\n",
        "download = requests.get(url).content\n",
        "\n",
        "# Reading the downloaded content and turning it into a pandas dataframe\n",
        "df = pd.read_csv(io.StringIO(download.decode('utf-8')))\n",
        "print(df.info())\n",
        "# show head of df\n",
        "print(df.head())\n",
        " \n",
        "# (1) Description of all the columns: for each colmun, count number of rows, number of unqiue element, the frequency of each unqiue element.\n",
        "print(df.describe())\n",
        "\n",
        "# (2) Visualize the count for each value in the 'Study Hours' column. Note: Study Hours values comes from this >= 6 hours Good >= 4 hours Average < 2 hours Poor.\n",
        "import matplotlib.pyplot as plt\n",
        "import seaborn as sns\n",
        "\n",
        "sns.catplot(x = 'sh', kind = 'count', data = df)\n",
        "plt.xlabel('Study Hours')\n",
        "plt.show()\n",
        "\n",
        "# (3) Using factorplot to show the relationship between numerical and categorical value. Please use figure to show relation between [Study Hours] and [End Semester Percentage]. Percentage is calculated based on the following:\n",
        "# need to convert esp to numerical data using encoding\n",
        "# changing esp to categorical d type first\n",
        "df[\"esp\"] = df[\"esp\"].astype('category')\n",
        "print(df.dtypes)\n",
        "\n",
        "# changing the categorical data to codes\n",
        "df[\"esp\"] = df[\"esp\"].cat.codes\n",
        "print(df.head())\n",
        "\n",
        "sns.factorplot(x = 'sh', y = 'esp', data = df)\n",
        "plt.xlabel('Study Hours')\n",
        "plt.ylabel('End Semester Percentage')\n",
        "plt.show()\n",
        "\n",
        "# (4) Get the correlation from the data, then plug it to heatmap function and show it as following:\n",
        "# must change every data type to categorical and then encode\n",
        "df = df.astype('category')\n",
        "print(df.dtypes)\n",
        "\n",
        "# change all columns to encoded data\n",
        "col_names = df.columns\n",
        "\n",
        "for i in col_names:\n",
        "  df[i] = df[i].astype('category') \n",
        "  df[i] = df[i].cat.codes\n",
        "\n",
        "print(df.head())\n",
        "\n",
        "# get correllations\n",
        "correllations = df.corr()\n",
        "\n",
        "sns.heatmap(data = correllations)\n",
        "plt.show()\n",
        "\n"
      ],
      "metadata": {
        "colab": {
          "base_uri": "https://localhost:8080/",
          "height": 1000
        },
        "id": "PDZn3-T3KeEK",
        "outputId": "8bd7a813-d1a6-49ec-d647-605d54e233f7"
      },
      "execution_count": 22,
      "outputs": [
        {
          "output_type": "stream",
          "name": "stdout",
          "text": [
            "<class 'pandas.core.frame.DataFrame'>\n",
            "RangeIndex: 131 entries, 0 to 130\n",
            "Data columns (total 22 columns):\n",
            " #   Column  Non-Null Count  Dtype \n",
            "---  ------  --------------  ----- \n",
            " 0   ge      131 non-null    object\n",
            " 1   cst     131 non-null    object\n",
            " 2   tnp     131 non-null    object\n",
            " 3   twp     131 non-null    object\n",
            " 4   iap     131 non-null    object\n",
            " 5   esp     131 non-null    object\n",
            " 6   arr     131 non-null    object\n",
            " 7   ms      131 non-null    object\n",
            " 8   ls      131 non-null    object\n",
            " 9   as      131 non-null    object\n",
            " 10  fmi     131 non-null    object\n",
            " 11  fs      131 non-null    object\n",
            " 12  fq      131 non-null    object\n",
            " 13  mq      131 non-null    object\n",
            " 14  fo      131 non-null    object\n",
            " 15  mo      131 non-null    object\n",
            " 16  nf      131 non-null    object\n",
            " 17  sh      131 non-null    object\n",
            " 18  ss      131 non-null    object\n",
            " 19  me      131 non-null    object\n",
            " 20  tt      131 non-null    object\n",
            " 21  atd     131 non-null    object\n",
            "dtypes: object(22)\n",
            "memory usage: 22.6+ KB\n",
            "None\n",
            "  ge   cst   tnp   twp iap   esp arr         ms ls    as  ...  fq  mq  \\\n",
            "0  F     G  Good  Good  Vg  Good   Y  Unmarried  V  Paid  ...  Um  10   \n",
            "1  M   OBC    Vg    Vg  Vg    Vg   N  Unmarried  V  Paid  ...  Um  Il   \n",
            "2  F   OBC  Good  Good  Vg  Good   N  Unmarried  V  Paid  ...  12  10   \n",
            "3  M  MOBC  Pass  Good  Vg  Good   N  Unmarried  V  Paid  ...  12  Um   \n",
            "4  M     G  Good  Good  Vg    Vg   N  Unmarried  V  Paid  ...  10  12   \n",
            "\n",
            "         fo         mo       nf       sh       ss   me       tt      atd  \n",
            "0    Farmer  Housewife    Large     Poor     Govt  Asm    Small     Good  \n",
            "1   Service    Service    Small     Poor     Govt  Asm  Average  Average  \n",
            "2   Service  Housewife  Average  Average     Govt  Asm    Large     Good  \n",
            "3  Business   Business    Large     Poor     Govt  Asm  Average  Average  \n",
            "4   Service  Housewife    Large     Poor  Private  Asm    Small     Good  \n",
            "\n",
            "[5 rows x 22 columns]\n",
            "         ge  cst   tnp   twp  iap   esp  arr         ms   ls    as  ...   fq  \\\n",
            "count   131  131   131   131  131   131  131        131  131   131  ...  131   \n",
            "unique    2    5     4     4    4     4    2          1    2     2  ...    6   \n",
            "top       M  OBC  Good  Good   Vg  Good    N  Unmarried    V  Paid  ...   Um   \n",
            "freq     72   57    59    65   63    54   78        131   92    76  ...   40   \n",
            "\n",
            "         mq       fo         mo     nf       sh    ss   me     tt   atd  \n",
            "count   131      131        131    131      131   131  131    131   131  \n",
            "unique    6        5          5      3        3     2    4      3     3  \n",
            "top      Um  Service  Housewife  Large  Average  Govt  Eng  Small  Good  \n",
            "freq     52       38        115     58       59    91   62     78    56  \n",
            "\n",
            "[4 rows x 22 columns]\n"
          ]
        },
        {
          "output_type": "display_data",
          "data": {
            "text/plain": [
              "<Figure size 360x360 with 1 Axes>"
            ],
            "image/png": "[encoded data removed]"
          },
          "metadata": {
            "needs_background": "light"
          }
        },
        {
          "output_type": "stream",
          "name": "stdout",
          "text": [
            "ge       object\n",
            "cst      object\n",
            "tnp      object\n",
            "twp      object\n",
            "iap      object\n",
            "esp    category\n",
            "arr      object\n",
            "ms       object\n",
            "ls       object\n",
            "as       object\n",
            "fmi      object\n",
            "fs       object\n",
            "fq       object\n",
            "mq       object\n",
            "fo       object\n",
            "mo       object\n",
            "nf       object\n",
            "sh       object\n",
            "ss       object\n",
            "me       object\n",
            "tt       object\n",
            "atd      object\n",
            "dtype: object\n",
            "  ge   cst   tnp   twp iap  esp arr         ms ls    as  ...  fq  mq  \\\n",
            "0  F     G  Good  Good  Vg    1   Y  Unmarried  V  Paid  ...  Um  10   \n",
            "1  M   OBC    Vg    Vg  Vg    3   N  Unmarried  V  Paid  ...  Um  Il   \n",
            "2  F   OBC  Good  Good  Vg    1   N  Unmarried  V  Paid  ...  12  10   \n",
            "3  M  MOBC  Pass  Good  Vg    1   N  Unmarried  V  Paid  ...  12  Um   \n",
            "4  M     G  Good  Good  Vg    3   N  Unmarried  V  Paid  ...  10  12   \n",
            "\n",
            "         fo         mo       nf       sh       ss   me       tt      atd  \n",
            "0    Farmer  Housewife    Large     Poor     Govt  Asm    Small     Good  \n",
            "1   Service    Service    Small     Poor     Govt  Asm  Average  Average  \n",
            "2   Service  Housewife  Average  Average     Govt  Asm    Large     Good  \n",
            "3  Business   Business    Large     Poor     Govt  Asm  Average  Average  \n",
            "4   Service  Housewife    Large     Poor  Private  Asm    Small     Good  \n",
            "\n",
            "[5 rows x 22 columns]\n"
          ]
        },
        {
          "output_type": "stream",
          "name": "stderr",
          "text": [
            "/usr/local/lib/python3.7/dist-packages/seaborn/categorical.py:3717: UserWarning: The `factorplot` function has been renamed to `catplot`. The original name will be removed in a future release. Please update your code. Note that the default `kind` in `factorplot` (`'point'`) has changed `'strip'` in `catplot`.\n",
            "  warnings.warn(msg)\n"
          ]
        },
        {
          "output_type": "display_data",
          "data": {
            "text/plain": [
              "<Figure size 360x360 with 1 Axes>"
            ],
            "image/png": "[encoded data removed]"
          },
          "metadata": {
            "needs_background": "light"
          }
        },
        {
          "output_type": "stream",
          "name": "stdout",
          "text": [
            "ge     category\n",
            "cst    category\n",
            "tnp    category\n",
            "twp    category\n",
            "iap    category\n",
            "esp    category\n",
            "arr    category\n",
            "ms     category\n",
            "ls     category\n",
            "as     category\n",
            "fmi    category\n",
            "fs     category\n",
            "fq     category\n",
            "mq     category\n",
            "fo     category\n",
            "mo     category\n",
            "nf     category\n",
            "sh     category\n",
            "ss     category\n",
            "me     category\n",
            "tt     category\n",
            "atd    category\n",
            "dtype: object\n",
            "   ge  cst  tnp  twp  iap  esp  arr  ms  ls  as  ...  fq  mq  fo  mo  nf  sh  \\\n",
            "0   0    0    1    1    3    1    1   0   1   1  ...   5   0   1   1   1   2   \n",
            "1   1    2    3    3    3    3    0   0   1   1  ...   5   3   4   4   2   2   \n",
            "2   0    2    1    1    3    1    0   0   1   1  ...   1   0   4   1   0   0   \n",
            "3   1    1    2    1    3    1    0   0   1   1  ...   1   5   0   0   1   2   \n",
            "4   1    0    1    1    3    3    0   0   1   1  ...   0   1   4   1   1   2   \n",
            "\n",
            "   ss  me  tt  atd  \n",
            "0   0   0   2    1  \n",
            "1   0   0   0    0  \n",
            "2   0   0   1    1  \n",
            "3   0   0   0    0  \n",
            "4   1   0   2    1  \n",
            "\n",
            "[5 rows x 22 columns]\n"
          ]
        },
        {
          "output_type": "display_data",
          "data": {
            "text/plain": [
              "<Figure size 432x288 with 2 Axes>"
            ],
            "image/png": "[encoded data removed]"
          },
          "metadata": {
            "needs_background": "light"
          }
        }
      ]
    }
  ],
  "metadata": {
    "kernelspec": {
      "display_name": "Python 3 (ipykernel)",
      "language": "python",
      "name": "python3"
    },
    "language_info": {
      "codemirror_mode": {
        "name": "ipython",
        "version": 3
      },
      "file_extension": ".py",
      "mimetype": "text/x-python",
      "name": "python",
      "nbconvert_exporter": "python",
      "pygments_lexer": "ipython3",
      "version": "3.9.12"
    },
    "colab": {
      "name": "lab_assignment_04_Jordan_Mackey.ipynb",
      "provenance": [],
      "collapsed_sections": [],
      "include_colab_link": true
    }
  },
  "nbformat": 4,
  "nbformat_minor": 0
}