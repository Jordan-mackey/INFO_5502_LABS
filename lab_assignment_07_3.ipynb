{
  "cells": [
    {
      "cell_type": "markdown",
      "metadata": {
        "id": "view-in-github",
        "colab_type": "text"
      },
      "source": [
        "<a href=\"https://colab.research.google.com/github/Jordan-mackey/INFO_5502_LABS/blob/main/lab_assignment_07_3.ipynb\" target=\"_parent\"><img src=\"https://colab.research.google.com/assets/colab-badge.svg\" alt=\"Open In Colab\"/></a>"
      ]
    },
    {
      "cell_type": "markdown",
      "metadata": {
        "id": "78O5F4IRPj_d"
      },
      "source": [
        "## The Seventh Lab-assignment (08/05/2022 11:59'AM' - 08/09/2022 11:59PM, 50 points in total)"
      ]
    },
    {
      "cell_type": "markdown",
      "metadata": {
        "id": "sULwkDAOPj_f"
      },
      "source": [
        "The purpose of this exercise is to understand how to conduct Sampling and Distributions. The data used in this lab assignment will contain salary data and other statistics for basketball players from the 2014-2015 NBA season. This data was collected from the following sports analytic sites: [Basketball Reference](http://www.basketball-reference.com) and [Spotrac](http://www.spotrac.com). The dataset of this assignment can be downloaded from github: https://github.com/suthapalliuday/INFO5502-Summer2022/tree/main/datasets/lab-assignment-7\n",
        "\n",
        "First, set up the tests and imports by running the cell below."
      ]
    },
    {
      "cell_type": "code",
      "execution_count": 70,
      "metadata": {
        "colab": {
          "base_uri": "https://localhost:8080/"
        },
        "id": "kwTgBqexPj_g",
        "outputId": "a209b34a-6c41-4224-ce62-b204ac4ac639"
      },
      "outputs": [
        {
          "output_type": "stream",
          "name": "stdout",
          "text": [
            "Looking in indexes: https://pypi.org/simple, https://us-python.pkg.dev/colab-wheels/public/simple/\n",
            "Requirement already satisfied: datascience in /usr/local/lib/python3.7/dist-packages (0.17.5)\n",
            "Requirement already satisfied: branca in /usr/local/lib/python3.7/dist-packages (from datascience) (0.5.0)\n",
            "Requirement already satisfied: setuptools in /usr/local/lib/python3.7/dist-packages (from datascience) (57.4.0)\n",
            "Requirement already satisfied: pandas in /usr/local/lib/python3.7/dist-packages (from datascience) (1.3.5)\n",
            "Requirement already satisfied: numpy in /usr/local/lib/python3.7/dist-packages (from datascience) (1.21.6)\n",
            "Requirement already satisfied: ipython in /usr/local/lib/python3.7/dist-packages (from datascience) (5.5.0)\n",
            "Requirement already satisfied: scipy in /usr/local/lib/python3.7/dist-packages (from datascience) (1.7.3)\n",
            "Requirement already satisfied: matplotlib>=3.0.0 in /usr/local/lib/python3.7/dist-packages (from datascience) (3.2.2)\n",
            "Requirement already satisfied: folium>=0.9.1 in /usr/local/lib/python3.7/dist-packages (from datascience) (0.12.1.post1)\n",
            "Requirement already satisfied: plotly in /usr/local/lib/python3.7/dist-packages (from datascience) (5.5.0)\n",
            "Requirement already satisfied: jinja2>=2.9 in /usr/local/lib/python3.7/dist-packages (from folium>=0.9.1->datascience) (2.11.3)\n",
            "Requirement already satisfied: requests in /usr/local/lib/python3.7/dist-packages (from folium>=0.9.1->datascience) (2.23.0)\n",
            "Requirement already satisfied: MarkupSafe>=0.23 in /usr/local/lib/python3.7/dist-packages (from jinja2>=2.9->folium>=0.9.1->datascience) (2.0.1)\n",
            "Requirement already satisfied: pyparsing!=2.0.4,!=2.1.2,!=2.1.6,>=2.0.1 in /usr/local/lib/python3.7/dist-packages (from matplotlib>=3.0.0->datascience) (3.0.9)\n",
            "Requirement already satisfied: python-dateutil>=2.1 in /usr/local/lib/python3.7/dist-packages (from matplotlib>=3.0.0->datascience) (2.8.2)\n",
            "Requirement already satisfied: cycler>=0.10 in /usr/local/lib/python3.7/dist-packages (from matplotlib>=3.0.0->datascience) (0.11.0)\n",
            "Requirement already satisfied: kiwisolver>=1.0.1 in /usr/local/lib/python3.7/dist-packages (from matplotlib>=3.0.0->datascience) (1.4.4)\n",
            "Requirement already satisfied: typing-extensions in /usr/local/lib/python3.7/dist-packages (from kiwisolver>=1.0.1->matplotlib>=3.0.0->datascience) (4.1.1)\n",
            "Requirement already satisfied: six>=1.5 in /usr/local/lib/python3.7/dist-packages (from python-dateutil>=2.1->matplotlib>=3.0.0->datascience) (1.15.0)\n",
            "Requirement already satisfied: simplegeneric>0.8 in /usr/local/lib/python3.7/dist-packages (from ipython->datascience) (0.8.1)\n",
            "Requirement already satisfied: prompt-toolkit<2.0.0,>=1.0.4 in /usr/local/lib/python3.7/dist-packages (from ipython->datascience) (1.0.18)\n",
            "Requirement already satisfied: traitlets>=4.2 in /usr/local/lib/python3.7/dist-packages (from ipython->datascience) (5.1.1)\n",
            "Requirement already satisfied: pexpect in /usr/local/lib/python3.7/dist-packages (from ipython->datascience) (4.8.0)\n",
            "Requirement already satisfied: pickleshare in /usr/local/lib/python3.7/dist-packages (from ipython->datascience) (0.7.5)\n",
            "Requirement already satisfied: decorator in /usr/local/lib/python3.7/dist-packages (from ipython->datascience) (4.4.2)\n",
            "Requirement already satisfied: pygments in /usr/local/lib/python3.7/dist-packages (from ipython->datascience) (2.6.1)\n",
            "Requirement already satisfied: wcwidth in /usr/local/lib/python3.7/dist-packages (from prompt-toolkit<2.0.0,>=1.0.4->ipython->datascience) (0.2.5)\n",
            "Requirement already satisfied: pytz>=2017.3 in /usr/local/lib/python3.7/dist-packages (from pandas->datascience) (2022.1)\n",
            "Requirement already satisfied: ptyprocess>=0.5 in /usr/local/lib/python3.7/dist-packages (from pexpect->ipython->datascience) (0.7.0)\n",
            "Requirement already satisfied: tenacity>=6.2.0 in /usr/local/lib/python3.7/dist-packages (from plotly->datascience) (8.0.1)\n",
            "Requirement already satisfied: urllib3!=1.25.0,!=1.25.1,<1.26,>=1.21.1 in /usr/local/lib/python3.7/dist-packages (from requests->folium>=0.9.1->datascience) (1.24.3)\n",
            "Requirement already satisfied: idna<3,>=2.5 in /usr/local/lib/python3.7/dist-packages (from requests->folium>=0.9.1->datascience) (2.10)\n",
            "Requirement already satisfied: chardet<4,>=3.0.2 in /usr/local/lib/python3.7/dist-packages (from requests->folium>=0.9.1->datascience) (3.0.4)\n",
            "Requirement already satisfied: certifi>=2017.4.17 in /usr/local/lib/python3.7/dist-packages (from requests->folium>=0.9.1->datascience) (2022.6.15)\n"
          ]
        }
      ],
      "source": [
        "# Install the required package\n",
        "!pip install datascience"
      ]
    },
    {
      "cell_type": "code",
      "execution_count": 71,
      "metadata": {
        "id": "inQopaQFPj_h"
      },
      "outputs": [],
      "source": [
        "# Run this cell, but please don't change it.\n",
        "\n",
        "# These lines import the Numpy and Datascience modules.\n",
        "import pandas as pd\n",
        "import numpy as np\n",
        "from datascience import *\n",
        "import requests\n",
        "import io \n",
        "\n",
        "# These lines do some fancy plotting magic\n",
        "import matplotlib\n",
        "%matplotlib inline\n",
        "import matplotlib.pyplot as plt\n",
        "plt.style.use('fivethirtyeight')"
      ]
    },
    {
      "cell_type": "markdown",
      "metadata": {
        "id": "7AoeG562Pj_h"
      },
      "source": [
        "Run the cell below to load player and salary data that we will use for our sampling."
      ]
    },
    {
      "cell_type": "code",
      "execution_count": 72,
      "metadata": {
        "colab": {
          "base_uri": "https://localhost:8080/",
          "height": 237
        },
        "id": "UIR26y4SPj_i",
        "outputId": "4853bbbb-37d8-4add-acfa-babd373896ae"
      },
      "outputs": [
        {
          "output_type": "execute_result",
          "data": {
            "text/plain": [
              "                     Salary  Age Team  Games  Rebounds  Assists  Steals  \\\n",
              "PlayerName                                                                \n",
              "Kobe Bryant        23500000   36  LAL     35       199      197      47   \n",
              "Amar'e Stoudemire  23410988   32  TOT     59       329       45      29   \n",
              "Joe Johnson        23180790   33  BRK     80       384      292      59   \n",
              "Carmelo Anthony    22458401   30  NYK     40       264      122      40   \n",
              "Dwight Howard      21436271   29  HOU     41       431       50      28   \n",
              "\n",
              "                   Blocks  Turnovers  Points  \n",
              "PlayerName                                    \n",
              "Kobe Bryant             7        128     782  \n",
              "Amar'e Stoudemire      38         78     680  \n",
              "Joe Johnson            14        137    1154  \n",
              "Carmelo Anthony        17         89     966  \n",
              "Dwight Howard          53        115     646  "
            ],
            "text/html": [
              "\n",
              "  <div id=\"df-72fb0f53-2b6c-4408-ae03-3b85be697851\">\n",
              "    <div class=\"colab-df-container\">\n",
              "      <div>\n",
              "<style scoped>\n",
              "    .dataframe tbody tr th:only-of-type {\n",
              "        vertical-align: middle;\n",
              "    }\n",
              "\n",
              "    .dataframe tbody tr th {\n",
              "        vertical-align: top;\n",
              "    }\n",
              "\n",
              "    .dataframe thead th {\n",
              "        text-align: right;\n",
              "    }\n",
              "</style>\n",
              "<table border=\"1\" class=\"dataframe\">\n",
              "  <thead>\n",
              "    <tr style=\"text-align: right;\">\n",
              "      <th></th>\n",
              "      <th>Salary</th>\n",
              "      <th>Age</th>\n",
              "      <th>Team</th>\n",
              "      <th>Games</th>\n",
              "      <th>Rebounds</th>\n",
              "      <th>Assists</th>\n",
              "      <th>Steals</th>\n",
              "      <th>Blocks</th>\n",
              "      <th>Turnovers</th>\n",
              "      <th>Points</th>\n",
              "    </tr>\n",
              "    <tr>\n",
              "      <th>PlayerName</th>\n",
              "      <th></th>\n",
              "      <th></th>\n",
              "      <th></th>\n",
              "      <th></th>\n",
              "      <th></th>\n",
              "      <th></th>\n",
              "      <th></th>\n",
              "      <th></th>\n",
              "      <th></th>\n",
              "      <th></th>\n",
              "    </tr>\n",
              "  </thead>\n",
              "  <tbody>\n",
              "    <tr>\n",
              "      <th>Kobe Bryant</th>\n",
              "      <td>23500000</td>\n",
              "      <td>36</td>\n",
              "      <td>LAL</td>\n",
              "      <td>35</td>\n",
              "      <td>199</td>\n",
              "      <td>197</td>\n",
              "      <td>47</td>\n",
              "      <td>7</td>\n",
              "      <td>128</td>\n",
              "      <td>782</td>\n",
              "    </tr>\n",
              "    <tr>\n",
              "      <th>Amar'e Stoudemire</th>\n",
              "      <td>23410988</td>\n",
              "      <td>32</td>\n",
              "      <td>TOT</td>\n",
              "      <td>59</td>\n",
              "      <td>329</td>\n",
              "      <td>45</td>\n",
              "      <td>29</td>\n",
              "      <td>38</td>\n",
              "      <td>78</td>\n",
              "      <td>680</td>\n",
              "    </tr>\n",
              "    <tr>\n",
              "      <th>Joe Johnson</th>\n",
              "      <td>23180790</td>\n",
              "      <td>33</td>\n",
              "      <td>BRK</td>\n",
              "      <td>80</td>\n",
              "      <td>384</td>\n",
              "      <td>292</td>\n",
              "      <td>59</td>\n",
              "      <td>14</td>\n",
              "      <td>137</td>\n",
              "      <td>1154</td>\n",
              "    </tr>\n",
              "    <tr>\n",
              "      <th>Carmelo Anthony</th>\n",
              "      <td>22458401</td>\n",
              "      <td>30</td>\n",
              "      <td>NYK</td>\n",
              "      <td>40</td>\n",
              "      <td>264</td>\n",
              "      <td>122</td>\n",
              "      <td>40</td>\n",
              "      <td>17</td>\n",
              "      <td>89</td>\n",
              "      <td>966</td>\n",
              "    </tr>\n",
              "    <tr>\n",
              "      <th>Dwight Howard</th>\n",
              "      <td>21436271</td>\n",
              "      <td>29</td>\n",
              "      <td>HOU</td>\n",
              "      <td>41</td>\n",
              "      <td>431</td>\n",
              "      <td>50</td>\n",
              "      <td>28</td>\n",
              "      <td>53</td>\n",
              "      <td>115</td>\n",
              "      <td>646</td>\n",
              "    </tr>\n",
              "  </tbody>\n",
              "</table>\n",
              "</div>\n",
              "      <button class=\"colab-df-convert\" onclick=\"convertToInteractive('df-72fb0f53-2b6c-4408-ae03-3b85be697851')\"\n",
              "              title=\"Convert this dataframe to an interactive table.\"\n",
              "              style=\"display:none;\">\n",
              "        \n",
              "  <svg xmlns=\"http://www.w3.org/2000/svg\" height=\"24px\"viewBox=\"0 0 24 24\"\n",
              "       width=\"24px\">\n",
              "    <path d=\"M0 0h24v24H0V0z\" fill=\"none\"/>\n",
              "    <path d=\"M18.56 5.44l.94 2.06.94-2.06 2.06-.94-2.06-.94-.94-2.06-.94 2.06-2.06.94zm-11 1L8.5 8.5l.94-2.06 2.06-.94-2.06-.94L8.5 2.5l-.94 2.06-2.06.94zm10 10l.94 2.06.94-2.06 2.06-.94-2.06-.94-.94-2.06-.94 2.06-2.06.94z\"/><path d=\"M17.41 7.96l-1.37-1.37c-.4-.4-.92-.59-1.43-.59-.52 0-1.04.2-1.43.59L10.3 9.45l-7.72 7.72c-.78.78-.78 2.05 0 2.83L4 21.41c.39.39.9.59 1.41.59.51 0 1.02-.2 1.41-.59l7.78-7.78 2.81-2.81c.8-.78.8-2.07 0-2.86zM5.41 20L4 18.59l7.72-7.72 1.47 1.35L5.41 20z\"/>\n",
              "  </svg>\n",
              "      </button>\n",
              "      \n",
              "  <style>\n",
              "    .colab-df-container {\n",
              "      display:flex;\n",
              "      flex-wrap:wrap;\n",
              "      gap: 12px;\n",
              "    }\n",
              "\n",
              "    .colab-df-convert {\n",
              "      background-color: #E8F0FE;\n",
              "      border: none;\n",
              "      border-radius: 50%;\n",
              "      cursor: pointer;\n",
              "      display: none;\n",
              "      fill: #1967D2;\n",
              "      height: 32px;\n",
              "      padding: 0 0 0 0;\n",
              "      width: 32px;\n",
              "    }\n",
              "\n",
              "    .colab-df-convert:hover {\n",
              "      background-color: #E2EBFA;\n",
              "      box-shadow: 0px 1px 2px rgba(60, 64, 67, 0.3), 0px 1px 3px 1px rgba(60, 64, 67, 0.15);\n",
              "      fill: #174EA6;\n",
              "    }\n",
              "\n",
              "    [theme=dark] .colab-df-convert {\n",
              "      background-color: #3B4455;\n",
              "      fill: #D2E3FC;\n",
              "    }\n",
              "\n",
              "    [theme=dark] .colab-df-convert:hover {\n",
              "      background-color: #434B5C;\n",
              "      box-shadow: 0px 1px 3px 1px rgba(0, 0, 0, 0.15);\n",
              "      filter: drop-shadow(0px 1px 2px rgba(0, 0, 0, 0.3));\n",
              "      fill: #FFFFFF;\n",
              "    }\n",
              "  </style>\n",
              "\n",
              "      <script>\n",
              "        const buttonEl =\n",
              "          document.querySelector('#df-72fb0f53-2b6c-4408-ae03-3b85be697851 button.colab-df-convert');\n",
              "        buttonEl.style.display =\n",
              "          google.colab.kernel.accessAllowed ? 'block' : 'none';\n",
              "\n",
              "        async function convertToInteractive(key) {\n",
              "          const element = document.querySelector('#df-72fb0f53-2b6c-4408-ae03-3b85be697851');\n",
              "          const dataTable =\n",
              "            await google.colab.kernel.invokeFunction('convertToInteractive',\n",
              "                                                     [key], {});\n",
              "          if (!dataTable) return;\n",
              "\n",
              "          const docLinkHtml = 'Like what you see? Visit the ' +\n",
              "            '<a target=\"_blank\" href=https://colab.research.google.com/notebooks/data_table.ipynb>data table notebook</a>'\n",
              "            + ' to learn more about interactive tables.';\n",
              "          element.innerHTML = '';\n",
              "          dataTable['output_type'] = 'display_data';\n",
              "          await google.colab.output.renderOutput(dataTable, element);\n",
              "          const docLink = document.createElement('div');\n",
              "          docLink.innerHTML = docLinkHtml;\n",
              "          element.appendChild(docLink);\n",
              "        }\n",
              "      </script>\n",
              "    </div>\n",
              "  </div>\n",
              "  "
            ]
          },
          "metadata": {},
          "execution_count": 72
        }
      ],
      "source": [
        "# Downloading the training & testing csv file from your GitHub account\n",
        "\n",
        "url_player = \"https://raw.githubusercontent.com/suthapalliuday/INFO5502-Summer2022/main/datasets/lab-assignment-7/player_data.csv\" # Make sure the url is the raw version of the file on GitHub\n",
        "download_player = requests.get(url_player).content\n",
        "\n",
        "url_salary = \"https://raw.githubusercontent.com/suthapalliuday/INFO5502-Summer2022/main/datasets/lab-assignment-7/salary_data.csv\" # Make sure the url is the raw version of the file on GitHub\n",
        "download_salary = requests.get(url_salary).content\n",
        "\n",
        "\n",
        "\n",
        "# Reading the downloaded content and turning it into a pandas dataframe\n",
        "\n",
        "player_data = pd.read_csv(io.StringIO(download_player.decode('utf-8')))\n",
        "\n",
        "salary_data = pd.read_csv(io.StringIO(download_salary.decode('utf-8')))\n",
        "\n",
        "player_data.head()\n",
        "salary_data.head()\n",
        "\n",
        "full_data = salary_data.set_index('PlayerName').join(player_data.set_index('Name'))\n",
        "full_data.head()\n",
        "\n",
        "# # The show method immediately displays the contents of a table. \n",
        "# # This way, we can display the top of two tables using a single cell.\n",
        "\n",
        "# player_data.show(3)\n",
        "# salary_data.show(3)\n",
        "# full_data.show(3)"
      ]
    },
    {
      "cell_type": "markdown",
      "metadata": {
        "id": "JmtgrH0XPj_i"
      },
      "source": [
        "Rather than getting data on every player (as in the tables loaded above), imagine that we had gotten data on only a smaller subset of the players. For 492 players, it's not so unreasonable to expect to see all the data, but usually we aren't so lucky.\n",
        "\n",
        "If we want to make estimates about a certain numerical property of the population (known as a statistic, e.g. the mean or median), we may have to come up with these estimates based only on a smaller sample. Whether these estimates are useful or not often depends on how the sample was gathered. We have prepared some example sample datasets to see how they compare to the full NBA dataset. Later we'll ask you to create your own samples to see how they behave."
      ]
    },
    {
      "cell_type": "markdown",
      "metadata": {
        "id": "hFB3o_StPj_j"
      },
      "source": [
        "To save typing and increase the clarity of your code, we will package the analysis code into a few functions. This will be useful in the rest of the lab as we will repeatedly need to create histograms and collect summary statistics from that data."
      ]
    },
    {
      "cell_type": "markdown",
      "metadata": {
        "id": "wZgGkuz6Pj_j"
      },
      "source": [
        "We've defined the histograms function below, which takes a table with columns Age and Salary and draws a histogram for each one. It uses bin widths of 1 year for Age and $1,000,000 for Salary."
      ]
    },
    {
      "cell_type": "code",
      "execution_count": null,
      "metadata": {
        "colab": {
          "base_uri": "https://localhost:8080/",
          "height": 651
        },
        "id": "quarIlBjPj_j",
        "outputId": "1f2868d8-a0e3-49fa-b1db-9651c86d30be"
      },
      "outputs": [
        {
          "output_type": "stream",
          "name": "stdout",
          "text": [
            "Two histograms should be displayed below\n"
          ]
        },
        {
          "output_type": "display_data",
          "data": {
            "text/plain": [
              "<Figure size 432x288 with 1 Axes>"
            ],
            "image/png": "[encoded data removed]"
          },
          "metadata": {}
        },
        {
          "output_type": "display_data",
          "data": {
            "text/plain": [
              "<Figure size 432x288 with 1 Axes>"
            ],
            "image/png": "[encoded data removed]"
          },
          "metadata": {}
        }
      ],
      "source": [
        "def histograms(t):\n",
        "    ages = t['Age']\n",
        "    salaries = t['Salary']/1000000\n",
        "    t1 = t.drop('Salary', axis = 1)\n",
        "    t1['Salary'] = list(salaries)\n",
        "    age_bins = np.arange(min(ages), max(ages) + 2, 1) \n",
        "    salary_bins = np.arange(min(salaries), max(salaries) + 1, 1)\n",
        "    t1.hist('Age', bins=age_bins)\n",
        "    plt.title('Age distribution')\n",
        "    plt.xlabel('years')\n",
        "    t1.hist('Salary', bins=salary_bins)\n",
        "    plt.title('Salary distribution') \n",
        "    plt.xlabel('millions of dollars')\n",
        "    \n",
        "histograms(full_data)\n",
        "print('Two histograms should be displayed below')"
      ]
    },
    {
      "cell_type": "markdown",
      "metadata": {
        "id": "sDzvshUGPj_k"
      },
      "source": [
        "### Question 1 (10 points) \n",
        "\n",
        "Create a function called compute_statistics that takes a table containing ages and salaries and:\n",
        "\n",
        "(1) Draws a histogram of ages\n",
        "\n",
        "(2) Draws a histogram of salaries\n",
        "\n",
        "(3) Returns a two-element array containing the average age and average salary (in that order)\n",
        "\n",
        "\n",
        "You can call the histograms function to draw the histograms!\n",
        "\n",
        "Note: More charts will be displayed when running the test cell. Please feel free to ignore the charts."
      ]
    },
    {
      "cell_type": "code",
      "execution_count": 84,
      "metadata": {
        "colab": {
          "base_uri": "https://localhost:8080/",
          "height": 651
        },
        "id": "0vmvaG3fPj_l",
        "outputId": "ff23628e-4f5a-4cc8-9291-24f0e9b394d6"
      },
      "outputs": [
        {
          "output_type": "stream",
          "name": "stdout",
          "text": [
            "[[26.536585365853657, 4269775.7662601629]]\n"
          ]
        },
        {
          "output_type": "display_data",
          "data": {
            "text/plain": [
              "<Figure size 432x288 with 1 Axes>"
            ],
            "image/png": "[encoded data removed]"
          },
          "metadata": {}
        },
        {
          "output_type": "display_data",
          "data": {
            "text/plain": [
              "<Figure size 432x288 with 1 Axes>"
            ],
            "image/png": "[encoded data removed]"
          },
          "metadata": {}
        }
      ],
      "source": [
        "### You code here\n",
        "my_array = []\n",
        "\n",
        "def compute_statistics(age_and_salary_data):\n",
        "    histograms(age_and_salary_data)\n",
        "    avg_age = age_and_salary_data['Age'].mean()\n",
        "    avg_salary = age_and_salary_data['Salary'].mean()\n",
        "    my_array.append([avg_age, avg_salary])\n",
        "    print(my_array)\n",
        "    \n",
        "\n",
        "full_stats = compute_statistics(full_data)\n",
        "full_stats\n",
        "\n"
      ]
    },
    {
      "cell_type": "code",
      "execution_count": 85,
      "metadata": {
        "colab": {
          "base_uri": "https://localhost:8080/"
        },
        "id": "gvUeBOPPPj_l",
        "outputId": "0e9a17e7-695d-49d1-b6eb-5bb5d2862511"
      },
      "outputs": [
        {
          "output_type": "stream",
          "name": "stdout",
          "text": [
            "[[26.536585365853657, 4269775.7662601629], [26.536585365853657, 4269775.7662601629]]\n"
          ]
        }
      ],
      "source": [
        "# TEST\n",
        "stats = compute_statistics(full_data)\n",
        "plt.close()\n",
        "plt.close()\n",
        "# round(float(stats[0]), 2) == 26.54\n"
      ]
    },
    {
      "cell_type": "code",
      "execution_count": 86,
      "metadata": {
        "colab": {
          "base_uri": "https://localhost:8080/"
        },
        "id": "8KCUz_bnPj_l",
        "outputId": "a5e790a6-8ab1-48ec-c81c-9a2ac2ca7b80"
      },
      "outputs": [
        {
          "output_type": "stream",
          "name": "stdout",
          "text": [
            "[[26.536585365853657, 4269775.7662601629], [26.536585365853657, 4269775.7662601629], [26.536585365853657, 4269775.7662601629]]\n"
          ]
        }
      ],
      "source": [
        "# TEST\n",
        "stats = compute_statistics(full_data)\n",
        "plt.close()\n",
        "plt.close()\n",
        "# round(float(stats[1]), 2) == 4269775.77\n",
        "\n"
      ]
    },
    {
      "cell_type": "markdown",
      "metadata": {
        "id": "56m_j3jIPj_m"
      },
      "source": [
        "### Question 2 (10 points) Convenience sampling\n",
        "\n",
        "One sampling methodology, which is generally a bad idea, is to choose players who are somehow convenient to sample. For example, you might choose players from one team who are near your house, since it's easier to survey them. This is called, somewhat pejoratively, convenience sampling.\n",
        "\n",
        "Suppose you survey only relatively new players with ages less than 22. (The more experienced players didn't bother to answer your surveys about their salaries.)\n",
        "\n",
        "Assign `convenience_sample` to a subset of `full_data` that contains only the rows for players under the age of 22."
      ]
    },
    {
      "cell_type": "code",
      "execution_count": null,
      "metadata": {
        "colab": {
          "base_uri": "https://localhost:8080/",
          "height": 1000
        },
        "id": "6leMZZaXPj_m",
        "outputId": "1c1e9004-427b-4b2b-b9c5-02ee9d15d4fe"
      },
      "outputs": [
        {
          "output_type": "execute_result",
          "data": {
            "text/plain": [
              "                           Salary  Age Team  Games  Rebounds  Assists  Steals  \\\n",
              "PlayerName                                                                      \n",
              "Anthony Davis             5607240   21  NOP     68       696      149     100   \n",
              "Anthony Bennett           5563920   21  MIN     57       216       48      27   \n",
              "Andrew Wiggins            5510640   19  MIN     82       374      170      86   \n",
              "Michael Kidd-Gilchrist    5016960   21  CHO     55       416       77      30   \n",
              "Jabari Parker             4930560   19  MIL     25       138       42      31   \n",
              "Bradley Beal              4505280   21  WAS     63       241      194      76   \n",
              "Otto Porter               4470480   21  WAS     74       221       65      44   \n",
              "Aaron Gordon              3992040   19  ORL     47       169       33      21   \n",
              "Alex Len                  3649920   21  PHO     69       454       32      34   \n",
              "Dante Exum                3615000   19  UTA     82       131      198      41   \n",
              "Nerlens Noel              3315120   20  PHI     75       611      128     133   \n",
              "Marcus Smart              3283320   20  BOS     67       222      208      99   \n",
              "Ben McLemore              3026280   21  SAC     82       241      140      77   \n",
              "Julius Randle             2997360   20  LAL      1         0        0       0   \n",
              "Kentavious Caldwell-Pope  2772480   21  DET     82       255      109      93   \n",
              "Nik Stauskas              2745840   21  SAC     73        88       67      20   \n",
              "Andre Drummond            2568360   21  DET     82      1104       55      73   \n",
              "Noah Vonleh               2524200   19  CHO     25        86        4       4   \n",
              "Elfrid Payton             2397840   20  ORL     82       349      533     142   \n",
              "Steven Adams              2184960   21  OKC     70       523       66      38   \n",
              "Zach LaVine               2055840   19  MIN     77       214      276      54   \n",
              "T.J. Warren               1953120   21  PHO     40        85       25      18   \n",
              "Maurice Harkless          1887840   21  ORL     45       106       25      32   \n",
              "Giannis Antetokounmpo     1873200   20  MIL     81       542      207      73   \n",
              "Jusuf Nurkic              1762680   20  DEN     62       382       50      52   \n",
              "Dennis Schroder           1690680   21  ATL     77       164      317      49   \n",
              "James Young               1674480   19  BOS     31        42       13       8   \n",
              "Tyler Ennis               1590720   20  TOT     33        35       73      18   \n",
              "Sergey Karasev            1533840   21  BRK     33        66       46      23   \n",
              "Gary Harris               1519200   20  DEN     55        64       29      39   \n",
              "Bruno Caboclo             1458360   19  TOR      8         2        0       0   \n",
              "Jordan Adams              1344120   20  MEM     30        28       16      16   \n",
              "Tony Wroten               1210080   21  PHI     30        86      157      48   \n",
              "Clint Capela              1189200   20  HOU     12        36        2       1   \n",
              "Archie Goodwin            1112280   20  PHO     41        74       44      18   \n",
              "Kyle Anderson             1093680   21  SAS     33        72       28      15   \n",
              "Jerami Grant               884879   20  PHI     65       198       79      40   \n",
              "Grant Jerrett              816481   21  TOT      8         9        3       2   \n",
              "Jarnell Stokes             725000   21  MEM     19        34        4       5   \n",
              "Spencer Dinwiddie          700000   21  DET     34        48      104      19   \n",
              "Johnny O'Bryant            600000   21  MIL     34        64       17       5   \n",
              "K.J. McDaniels             507336   21  TOT     62       200       72      44   \n",
              "JaKarr Sampson             507336   21  PHI     74       163       77      38   \n",
              "Glenn Robinson III         507336   21  TOT     35        39       11       6   \n",
              "\n",
              "                          Blocks  Turnovers  Points  \n",
              "PlayerName                                           \n",
              "Anthony Davis                200         95    1656  \n",
              "Anthony Bennett               16         36     298  \n",
              "Andrew Wiggins                50        177    1387  \n",
              "Michael Kidd-Gilchrist        38         63     598  \n",
              "Jabari Parker                  5         47     308  \n",
              "Bradley Beal                  18        123     962  \n",
              "Otto Porter                   30         52     445  \n",
              "Aaron Gordon                  22         38     243  \n",
              "Alex Len                     105         74     432  \n",
              "Dante Exum                    14        118     393  \n",
              "Nerlens Noel                 142        146     744  \n",
              "Marcus Smart                  18         90     523  \n",
              "Ben McLemore                  19        138     996  \n",
              "Julius Randle                  0          1       2  \n",
              "Kentavious Caldwell-Pope      18         94    1043  \n",
              "Nik Stauskas                  17         40     319  \n",
              "Andre Drummond               153        120    1130  \n",
              "Noah Vonleh                    9         11      83  \n",
              "Elfrid Payton                 20        203     731  \n",
              "Steven Adams                  86         99     537  \n",
              "Zach LaVine                   10        193     778  \n",
              "T.J. Warren                    9         27     245  \n",
              "Maurice Harkless               9         27     158  \n",
              "Giannis Antetokounmpo         85        173    1030  \n",
              "Jusuf Nurkic                  68         86     426  \n",
              "Dennis Schroder                4        150     768  \n",
              "James Young                    2          5     105  \n",
              "Tyler Ennis                    5         42     121  \n",
              "Sergey Karasev                 1         24     153  \n",
              "Gary Harris                    7         38     188  \n",
              "Bruno Caboclo                  1          4      10  \n",
              "Jordan Adams                   7         14      94  \n",
              "Tony Wroten                    8        113     507  \n",
              "Clint Capela                   9          5      32  \n",
              "Archie Goodwin                 9         48     231  \n",
              "Kyle Anderson                  7         10      74  \n",
              "Jerami Grant                  68         85     411  \n",
              "Grant Jerrett                  2          3      16  \n",
              "Jarnell Stokes                 5          7      57  \n",
              "Spencer Dinwiddie              6         33     145  \n",
              "Johnny O'Bryant                4         25     100  \n",
              "K.J. McDaniels                70        105     487  \n",
              "JaKarr Sampson                26         76     386  \n",
              "Glenn Robinson III             1         11      73  "
            ],
            "text/html": [
              "\n",
              "  <div id=\"df-7e30c52c-155a-432c-a88b-d05704a4ef5d\">\n",
              "    <div class=\"colab-df-container\">\n",
              "      <div>\n",
              "<style scoped>\n",
              "    .dataframe tbody tr th:only-of-type {\n",
              "        vertical-align: middle;\n",
              "    }\n",
              "\n",
              "    .dataframe tbody tr th {\n",
              "        vertical-align: top;\n",
              "    }\n",
              "\n",
              "    .dataframe thead th {\n",
              "        text-align: right;\n",
              "    }\n",
              "</style>\n",
              "<table border=\"1\" class=\"dataframe\">\n",
              "  <thead>\n",
              "    <tr style=\"text-align: right;\">\n",
              "      <th></th>\n",
              "      <th>Salary</th>\n",
              "      <th>Age</th>\n",
              "      <th>Team</th>\n",
              "      <th>Games</th>\n",
              "      <th>Rebounds</th>\n",
              "      <th>Assists</th>\n",
              "      <th>Steals</th>\n",
              "      <th>Blocks</th>\n",
              "      <th>Turnovers</th>\n",
              "      <th>Points</th>\n",
              "    </tr>\n",
              "    <tr>\n",
              "      <th>PlayerName</th>\n",
              "      <th></th>\n",
              "      <th></th>\n",
              "      <th></th>\n",
              "      <th></th>\n",
              "      <th></th>\n",
              "      <th></th>\n",
              "      <th></th>\n",
              "      <th></th>\n",
              "      <th></th>\n",
              "      <th></th>\n",
              "    </tr>\n",
              "  </thead>\n",
              "  <tbody>\n",
              "    <tr>\n",
              "      <th>Anthony Davis</th>\n",
              "      <td>5607240</td>\n",
              "      <td>21</td>\n",
              "      <td>NOP</td>\n",
              "      <td>68</td>\n",
              "      <td>696</td>\n",
              "      <td>149</td>\n",
              "      <td>100</td>\n",
              "      <td>200</td>\n",
              "      <td>95</td>\n",
              "      <td>1656</td>\n",
              "    </tr>\n",
              "    <tr>\n",
              "      <th>Anthony Bennett</th>\n",
              "      <td>5563920</td>\n",
              "      <td>21</td>\n",
              "      <td>MIN</td>\n",
              "      <td>57</td>\n",
              "      <td>216</td>\n",
              "      <td>48</td>\n",
              "      <td>27</td>\n",
              "      <td>16</td>\n",
              "      <td>36</td>\n",
              "      <td>298</td>\n",
              "    </tr>\n",
              "    <tr>\n",
              "      <th>Andrew Wiggins</th>\n",
              "      <td>5510640</td>\n",
              "      <td>19</td>\n",
              "      <td>MIN</td>\n",
              "      <td>82</td>\n",
              "      <td>374</td>\n",
              "      <td>170</td>\n",
              "      <td>86</td>\n",
              "      <td>50</td>\n",
              "      <td>177</td>\n",
              "      <td>1387</td>\n",
              "    </tr>\n",
              "    <tr>\n",
              "      <th>Michael Kidd-Gilchrist</th>\n",
              "      <td>5016960</td>\n",
              "      <td>21</td>\n",
              "      <td>CHO</td>\n",
              "      <td>55</td>\n",
              "      <td>416</td>\n",
              "      <td>77</td>\n",
              "      <td>30</td>\n",
              "      <td>38</td>\n",
              "      <td>63</td>\n",
              "      <td>598</td>\n",
              "    </tr>\n",
              "    <tr>\n",
              "      <th>Jabari Parker</th>\n",
              "      <td>4930560</td>\n",
              "      <td>19</td>\n",
              "      <td>MIL</td>\n",
              "      <td>25</td>\n",
              "      <td>138</td>\n",
              "      <td>42</td>\n",
              "      <td>31</td>\n",
              "      <td>5</td>\n",
              "      <td>47</td>\n",
              "      <td>308</td>\n",
              "    </tr>\n",
              "    <tr>\n",
              "      <th>Bradley Beal</th>\n",
              "      <td>4505280</td>\n",
              "      <td>21</td>\n",
              "      <td>WAS</td>\n",
              "      <td>63</td>\n",
              "      <td>241</td>\n",
              "      <td>194</td>\n",
              "      <td>76</td>\n",
              "      <td>18</td>\n",
              "      <td>123</td>\n",
              "      <td>962</td>\n",
              "    </tr>\n",
              "    <tr>\n",
              "      <th>Otto Porter</th>\n",
              "      <td>4470480</td>\n",
              "      <td>21</td>\n",
              "      <td>WAS</td>\n",
              "      <td>74</td>\n",
              "      <td>221</td>\n",
              "      <td>65</td>\n",
              "      <td>44</td>\n",
              "      <td>30</td>\n",
              "      <td>52</td>\n",
              "      <td>445</td>\n",
              "    </tr>\n",
              "    <tr>\n",
              "      <th>Aaron Gordon</th>\n",
              "      <td>3992040</td>\n",
              "      <td>19</td>\n",
              "      <td>ORL</td>\n",
              "      <td>47</td>\n",
              "      <td>169</td>\n",
              "      <td>33</td>\n",
              "      <td>21</td>\n",
              "      <td>22</td>\n",
              "      <td>38</td>\n",
              "      <td>243</td>\n",
              "    </tr>\n",
              "    <tr>\n",
              "      <th>Alex Len</th>\n",
              "      <td>3649920</td>\n",
              "      <td>21</td>\n",
              "      <td>PHO</td>\n",
              "      <td>69</td>\n",
              "      <td>454</td>\n",
              "      <td>32</td>\n",
              "      <td>34</td>\n",
              "      <td>105</td>\n",
              "      <td>74</td>\n",
              "      <td>432</td>\n",
              "    </tr>\n",
              "    <tr>\n",
              "      <th>Dante Exum</th>\n",
              "      <td>3615000</td>\n",
              "      <td>19</td>\n",
              "      <td>UTA</td>\n",
              "      <td>82</td>\n",
              "      <td>131</td>\n",
              "      <td>198</td>\n",
              "      <td>41</td>\n",
              "      <td>14</td>\n",
              "      <td>118</td>\n",
              "      <td>393</td>\n",
              "    </tr>\n",
              "    <tr>\n",
              "      <th>Nerlens Noel</th>\n",
              "      <td>3315120</td>\n",
              "      <td>20</td>\n",
              "      <td>PHI</td>\n",
              "      <td>75</td>\n",
              "      <td>611</td>\n",
              "      <td>128</td>\n",
              "      <td>133</td>\n",
              "      <td>142</td>\n",
              "      <td>146</td>\n",
              "      <td>744</td>\n",
              "    </tr>\n",
              "    <tr>\n",
              "      <th>Marcus Smart</th>\n",
              "      <td>3283320</td>\n",
              "      <td>20</td>\n",
              "      <td>BOS</td>\n",
              "      <td>67</td>\n",
              "      <td>222</td>\n",
              "      <td>208</td>\n",
              "      <td>99</td>\n",
              "      <td>18</td>\n",
              "      <td>90</td>\n",
              "      <td>523</td>\n",
              "    </tr>\n",
              "    <tr>\n",
              "      <th>Ben McLemore</th>\n",
              "      <td>3026280</td>\n",
              "      <td>21</td>\n",
              "      <td>SAC</td>\n",
              "      <td>82</td>\n",
              "      <td>241</td>\n",
              "      <td>140</td>\n",
              "      <td>77</td>\n",
              "      <td>19</td>\n",
              "      <td>138</td>\n",
              "      <td>996</td>\n",
              "    </tr>\n",
              "    <tr>\n",
              "      <th>Julius Randle</th>\n",
              "      <td>2997360</td>\n",
              "      <td>20</td>\n",
              "      <td>LAL</td>\n",
              "      <td>1</td>\n",
              "      <td>0</td>\n",
              "      <td>0</td>\n",
              "      <td>0</td>\n",
              "      <td>0</td>\n",
              "      <td>1</td>\n",
              "      <td>2</td>\n",
              "    </tr>\n",
              "    <tr>\n",
              "      <th>Kentavious Caldwell-Pope</th>\n",
              "      <td>2772480</td>\n",
              "      <td>21</td>\n",
              "      <td>DET</td>\n",
              "      <td>82</td>\n",
              "      <td>255</td>\n",
              "      <td>109</td>\n",
              "      <td>93</td>\n",
              "      <td>18</td>\n",
              "      <td>94</td>\n",
              "      <td>1043</td>\n",
              "    </tr>\n",
              "    <tr>\n",
              "      <th>Nik Stauskas</th>\n",
              "      <td>2745840</td>\n",
              "      <td>21</td>\n",
              "      <td>SAC</td>\n",
              "      <td>73</td>\n",
              "      <td>88</td>\n",
              "      <td>67</td>\n",
              "      <td>20</td>\n",
              "      <td>17</td>\n",
              "      <td>40</td>\n",
              "      <td>319</td>\n",
              "    </tr>\n",
              "    <tr>\n",
              "      <th>Andre Drummond</th>\n",
              "      <td>2568360</td>\n",
              "      <td>21</td>\n",
              "      <td>DET</td>\n",
              "      <td>82</td>\n",
              "      <td>1104</td>\n",
              "      <td>55</td>\n",
              "      <td>73</td>\n",
              "      <td>153</td>\n",
              "      <td>120</td>\n",
              "      <td>1130</td>\n",
              "    </tr>\n",
              "    <tr>\n",
              "      <th>Noah Vonleh</th>\n",
              "      <td>2524200</td>\n",
              "      <td>19</td>\n",
              "      <td>CHO</td>\n",
              "      <td>25</td>\n",
              "      <td>86</td>\n",
              "      <td>4</td>\n",
              "      <td>4</td>\n",
              "      <td>9</td>\n",
              "      <td>11</td>\n",
              "      <td>83</td>\n",
              "    </tr>\n",
              "    <tr>\n",
              "      <th>Elfrid Payton</th>\n",
              "      <td>2397840</td>\n",
              "      <td>20</td>\n",
              "      <td>ORL</td>\n",
              "      <td>82</td>\n",
              "      <td>349</td>\n",
              "      <td>533</td>\n",
              "      <td>142</td>\n",
              "      <td>20</td>\n",
              "      <td>203</td>\n",
              "      <td>731</td>\n",
              "    </tr>\n",
              "    <tr>\n",
              "      <th>Steven Adams</th>\n",
              "      <td>2184960</td>\n",
              "      <td>21</td>\n",
              "      <td>OKC</td>\n",
              "      <td>70</td>\n",
              "      <td>523</td>\n",
              "      <td>66</td>\n",
              "      <td>38</td>\n",
              "      <td>86</td>\n",
              "      <td>99</td>\n",
              "      <td>537</td>\n",
              "    </tr>\n",
              "    <tr>\n",
              "      <th>Zach LaVine</th>\n",
              "      <td>2055840</td>\n",
              "      <td>19</td>\n",
              "      <td>MIN</td>\n",
              "      <td>77</td>\n",
              "      <td>214</td>\n",
              "      <td>276</td>\n",
              "      <td>54</td>\n",
              "      <td>10</td>\n",
              "      <td>193</td>\n",
              "      <td>778</td>\n",
              "    </tr>\n",
              "    <tr>\n",
              "      <th>T.J. Warren</th>\n",
              "      <td>1953120</td>\n",
              "      <td>21</td>\n",
              "      <td>PHO</td>\n",
              "      <td>40</td>\n",
              "      <td>85</td>\n",
              "      <td>25</td>\n",
              "      <td>18</td>\n",
              "      <td>9</td>\n",
              "      <td>27</td>\n",
              "      <td>245</td>\n",
              "    </tr>\n",
              "    <tr>\n",
              "      <th>Maurice Harkless</th>\n",
              "      <td>1887840</td>\n",
              "      <td>21</td>\n",
              "      <td>ORL</td>\n",
              "      <td>45</td>\n",
              "      <td>106</td>\n",
              "      <td>25</td>\n",
              "      <td>32</td>\n",
              "      <td>9</td>\n",
              "      <td>27</td>\n",
              "      <td>158</td>\n",
              "    </tr>\n",
              "    <tr>\n",
              "      <th>Giannis Antetokounmpo</th>\n",
              "      <td>1873200</td>\n",
              "      <td>20</td>\n",
              "      <td>MIL</td>\n",
              "      <td>81</td>\n",
              "      <td>542</td>\n",
              "      <td>207</td>\n",
              "      <td>73</td>\n",
              "      <td>85</td>\n",
              "      <td>173</td>\n",
              "      <td>1030</td>\n",
              "    </tr>\n",
              "    <tr>\n",
              "      <th>Jusuf Nurkic</th>\n",
              "      <td>1762680</td>\n",
              "      <td>20</td>\n",
              "      <td>DEN</td>\n",
              "      <td>62</td>\n",
              "      <td>382</td>\n",
              "      <td>50</td>\n",
              "      <td>52</td>\n",
              "      <td>68</td>\n",
              "      <td>86</td>\n",
              "      <td>426</td>\n",
              "    </tr>\n",
              "    <tr>\n",
              "      <th>Dennis Schroder</th>\n",
              "      <td>1690680</td>\n",
              "      <td>21</td>\n",
              "      <td>ATL</td>\n",
              "      <td>77</td>\n",
              "      <td>164</td>\n",
              "      <td>317</td>\n",
              "      <td>49</td>\n",
              "      <td>4</td>\n",
              "      <td>150</td>\n",
              "      <td>768</td>\n",
              "    </tr>\n",
              "    <tr>\n",
              "      <th>James Young</th>\n",
              "      <td>1674480</td>\n",
              "      <td>19</td>\n",
              "      <td>BOS</td>\n",
              "      <td>31</td>\n",
              "      <td>42</td>\n",
              "      <td>13</td>\n",
              "      <td>8</td>\n",
              "      <td>2</td>\n",
              "      <td>5</td>\n",
              "      <td>105</td>\n",
              "    </tr>\n",
              "    <tr>\n",
              "      <th>Tyler Ennis</th>\n",
              "      <td>1590720</td>\n",
              "      <td>20</td>\n",
              "      <td>TOT</td>\n",
              "      <td>33</td>\n",
              "      <td>35</td>\n",
              "      <td>73</td>\n",
              "      <td>18</td>\n",
              "      <td>5</td>\n",
              "      <td>42</td>\n",
              "      <td>121</td>\n",
              "    </tr>\n",
              "    <tr>\n",
              "      <th>Sergey Karasev</th>\n",
              "      <td>1533840</td>\n",
              "      <td>21</td>\n",
              "      <td>BRK</td>\n",
              "      <td>33</td>\n",
              "      <td>66</td>\n",
              "      <td>46</td>\n",
              "      <td>23</td>\n",
              "      <td>1</td>\n",
              "      <td>24</td>\n",
              "      <td>153</td>\n",
              "    </tr>\n",
              "    <tr>\n",
              "      <th>Gary Harris</th>\n",
              "      <td>1519200</td>\n",
              "      <td>20</td>\n",
              "      <td>DEN</td>\n",
              "      <td>55</td>\n",
              "      <td>64</td>\n",
              "      <td>29</td>\n",
              "      <td>39</td>\n",
              "      <td>7</td>\n",
              "      <td>38</td>\n",
              "      <td>188</td>\n",
              "    </tr>\n",
              "    <tr>\n",
              "      <th>Bruno Caboclo</th>\n",
              "      <td>1458360</td>\n",
              "      <td>19</td>\n",
              "      <td>TOR</td>\n",
              "      <td>8</td>\n",
              "      <td>2</td>\n",
              "      <td>0</td>\n",
              "      <td>0</td>\n",
              "      <td>1</td>\n",
              "      <td>4</td>\n",
              "      <td>10</td>\n",
              "    </tr>\n",
              "    <tr>\n",
              "      <th>Jordan Adams</th>\n",
              "      <td>1344120</td>\n",
              "      <td>20</td>\n",
              "      <td>MEM</td>\n",
              "      <td>30</td>\n",
              "      <td>28</td>\n",
              "      <td>16</td>\n",
              "      <td>16</td>\n",
              "      <td>7</td>\n",
              "      <td>14</td>\n",
              "      <td>94</td>\n",
              "    </tr>\n",
              "    <tr>\n",
              "      <th>Tony Wroten</th>\n",
              "      <td>1210080</td>\n",
              "      <td>21</td>\n",
              "      <td>PHI</td>\n",
              "      <td>30</td>\n",
              "      <td>86</td>\n",
              "      <td>157</td>\n",
              "      <td>48</td>\n",
              "      <td>8</td>\n",
              "      <td>113</td>\n",
              "      <td>507</td>\n",
              "    </tr>\n",
              "    <tr>\n",
              "      <th>Clint Capela</th>\n",
              "      <td>1189200</td>\n",
              "      <td>20</td>\n",
              "      <td>HOU</td>\n",
              "      <td>12</td>\n",
              "      <td>36</td>\n",
              "      <td>2</td>\n",
              "      <td>1</td>\n",
              "      <td>9</td>\n",
              "      <td>5</td>\n",
              "      <td>32</td>\n",
              "    </tr>\n",
              "    <tr>\n",
              "      <th>Archie Goodwin</th>\n",
              "      <td>1112280</td>\n",
              "      <td>20</td>\n",
              "      <td>PHO</td>\n",
              "      <td>41</td>\n",
              "      <td>74</td>\n",
              "      <td>44</td>\n",
              "      <td>18</td>\n",
              "      <td>9</td>\n",
              "      <td>48</td>\n",
              "      <td>231</td>\n",
              "    </tr>\n",
              "    <tr>\n",
              "      <th>Kyle Anderson</th>\n",
              "      <td>1093680</td>\n",
              "      <td>21</td>\n",
              "      <td>SAS</td>\n",
              "      <td>33</td>\n",
              "      <td>72</td>\n",
              "      <td>28</td>\n",
              "      <td>15</td>\n",
              "      <td>7</td>\n",
              "      <td>10</td>\n",
              "      <td>74</td>\n",
              "    </tr>\n",
              "    <tr>\n",
              "      <th>Jerami Grant</th>\n",
              "      <td>884879</td>\n",
              "      <td>20</td>\n",
              "      <td>PHI</td>\n",
              "      <td>65</td>\n",
              "      <td>198</td>\n",
              "      <td>79</td>\n",
              "      <td>40</td>\n",
              "      <td>68</td>\n",
              "      <td>85</td>\n",
              "      <td>411</td>\n",
              "    </tr>\n",
              "    <tr>\n",
              "      <th>Grant Jerrett</th>\n",
              "      <td>816481</td>\n",
              "      <td>21</td>\n",
              "      <td>TOT</td>\n",
              "      <td>8</td>\n",
              "      <td>9</td>\n",
              "      <td>3</td>\n",
              "      <td>2</td>\n",
              "      <td>2</td>\n",
              "      <td>3</td>\n",
              "      <td>16</td>\n",
              "    </tr>\n",
              "    <tr>\n",
              "      <th>Jarnell Stokes</th>\n",
              "      <td>725000</td>\n",
              "      <td>21</td>\n",
              "      <td>MEM</td>\n",
              "      <td>19</td>\n",
              "      <td>34</td>\n",
              "      <td>4</td>\n",
              "      <td>5</td>\n",
              "      <td>5</td>\n",
              "      <td>7</td>\n",
              "      <td>57</td>\n",
              "    </tr>\n",
              "    <tr>\n",
              "      <th>Spencer Dinwiddie</th>\n",
              "      <td>700000</td>\n",
              "      <td>21</td>\n",
              "      <td>DET</td>\n",
              "      <td>34</td>\n",
              "      <td>48</td>\n",
              "      <td>104</td>\n",
              "      <td>19</td>\n",
              "      <td>6</td>\n",
              "      <td>33</td>\n",
              "      <td>145</td>\n",
              "    </tr>\n",
              "    <tr>\n",
              "      <th>Johnny O'Bryant</th>\n",
              "      <td>600000</td>\n",
              "      <td>21</td>\n",
              "      <td>MIL</td>\n",
              "      <td>34</td>\n",
              "      <td>64</td>\n",
              "      <td>17</td>\n",
              "      <td>5</td>\n",
              "      <td>4</td>\n",
              "      <td>25</td>\n",
              "      <td>100</td>\n",
              "    </tr>\n",
              "    <tr>\n",
              "      <th>K.J. McDaniels</th>\n",
              "      <td>507336</td>\n",
              "      <td>21</td>\n",
              "      <td>TOT</td>\n",
              "      <td>62</td>\n",
              "      <td>200</td>\n",
              "      <td>72</td>\n",
              "      <td>44</td>\n",
              "      <td>70</td>\n",
              "      <td>105</td>\n",
              "      <td>487</td>\n",
              "    </tr>\n",
              "    <tr>\n",
              "      <th>JaKarr Sampson</th>\n",
              "      <td>507336</td>\n",
              "      <td>21</td>\n",
              "      <td>PHI</td>\n",
              "      <td>74</td>\n",
              "      <td>163</td>\n",
              "      <td>77</td>\n",
              "      <td>38</td>\n",
              "      <td>26</td>\n",
              "      <td>76</td>\n",
              "      <td>386</td>\n",
              "    </tr>\n",
              "    <tr>\n",
              "      <th>Glenn Robinson III</th>\n",
              "      <td>507336</td>\n",
              "      <td>21</td>\n",
              "      <td>TOT</td>\n",
              "      <td>35</td>\n",
              "      <td>39</td>\n",
              "      <td>11</td>\n",
              "      <td>6</td>\n",
              "      <td>1</td>\n",
              "      <td>11</td>\n",
              "      <td>73</td>\n",
              "    </tr>\n",
              "  </tbody>\n",
              "</table>\n",
              "</div>\n",
              "      <button class=\"colab-df-convert\" onclick=\"convertToInteractive('df-7e30c52c-155a-432c-a88b-d05704a4ef5d')\"\n",
              "              title=\"Convert this dataframe to an interactive table.\"\n",
              "              style=\"display:none;\">\n",
              "        \n",
              "  <svg xmlns=\"http://www.w3.org/2000/svg\" height=\"24px\"viewBox=\"0 0 24 24\"\n",
              "       width=\"24px\">\n",
              "    <path d=\"M0 0h24v24H0V0z\" fill=\"none\"/>\n",
              "    <path d=\"M18.56 5.44l.94 2.06.94-2.06 2.06-.94-2.06-.94-.94-2.06-.94 2.06-2.06.94zm-11 1L8.5 8.5l.94-2.06 2.06-.94-2.06-.94L8.5 2.5l-.94 2.06-2.06.94zm10 10l.94 2.06.94-2.06 2.06-.94-2.06-.94-.94-2.06-.94 2.06-2.06.94z\"/><path d=\"M17.41 7.96l-1.37-1.37c-.4-.4-.92-.59-1.43-.59-.52 0-1.04.2-1.43.59L10.3 9.45l-7.72 7.72c-.78.78-.78 2.05 0 2.83L4 21.41c.39.39.9.59 1.41.59.51 0 1.02-.2 1.41-.59l7.78-7.78 2.81-2.81c.8-.78.8-2.07 0-2.86zM5.41 20L4 18.59l7.72-7.72 1.47 1.35L5.41 20z\"/>\n",
              "  </svg>\n",
              "      </button>\n",
              "      \n",
              "  <style>\n",
              "    .colab-df-container {\n",
              "      display:flex;\n",
              "      flex-wrap:wrap;\n",
              "      gap: 12px;\n",
              "    }\n",
              "\n",
              "    .colab-df-convert {\n",
              "      background-color: #E8F0FE;\n",
              "      border: none;\n",
              "      border-radius: 50%;\n",
              "      cursor: pointer;\n",
              "      display: none;\n",
              "      fill: #1967D2;\n",
              "      height: 32px;\n",
              "      padding: 0 0 0 0;\n",
              "      width: 32px;\n",
              "    }\n",
              "\n",
              "    .colab-df-convert:hover {\n",
              "      background-color: #E2EBFA;\n",
              "      box-shadow: 0px 1px 2px rgba(60, 64, 67, 0.3), 0px 1px 3px 1px rgba(60, 64, 67, 0.15);\n",
              "      fill: #174EA6;\n",
              "    }\n",
              "\n",
              "    [theme=dark] .colab-df-convert {\n",
              "      background-color: #3B4455;\n",
              "      fill: #D2E3FC;\n",
              "    }\n",
              "\n",
              "    [theme=dark] .colab-df-convert:hover {\n",
              "      background-color: #434B5C;\n",
              "      box-shadow: 0px 1px 3px 1px rgba(0, 0, 0, 0.15);\n",
              "      filter: drop-shadow(0px 1px 2px rgba(0, 0, 0, 0.3));\n",
              "      fill: #FFFFFF;\n",
              "    }\n",
              "  </style>\n",
              "\n",
              "      <script>\n",
              "        const buttonEl =\n",
              "          document.querySelector('#df-7e30c52c-155a-432c-a88b-d05704a4ef5d button.colab-df-convert');\n",
              "        buttonEl.style.display =\n",
              "          google.colab.kernel.accessAllowed ? 'block' : 'none';\n",
              "\n",
              "        async function convertToInteractive(key) {\n",
              "          const element = document.querySelector('#df-7e30c52c-155a-432c-a88b-d05704a4ef5d');\n",
              "          const dataTable =\n",
              "            await google.colab.kernel.invokeFunction('convertToInteractive',\n",
              "                                                     [key], {});\n",
              "          if (!dataTable) return;\n",
              "\n",
              "          const docLinkHtml = 'Like what you see? Visit the ' +\n",
              "            '<a target=\"_blank\" href=https://colab.research.google.com/notebooks/data_table.ipynb>data table notebook</a>'\n",
              "            + ' to learn more about interactive tables.';\n",
              "          element.innerHTML = '';\n",
              "          dataTable['output_type'] = 'display_data';\n",
              "          await google.colab.output.renderOutput(dataTable, element);\n",
              "          const docLink = document.createElement('div');\n",
              "          docLink.innerHTML = docLinkHtml;\n",
              "          element.appendChild(docLink);\n",
              "        }\n",
              "      </script>\n",
              "    </div>\n",
              "  </div>\n",
              "  "
            ]
          },
          "metadata": {},
          "execution_count": 65
        }
      ],
      "source": [
        "### You code here:\n",
        "\n",
        "convenience_sample = full_data[full_data['Age'] < 22 ]\n",
        "convenience_sample\n",
        "\n",
        "\n",
        "\n"
      ]
    },
    {
      "cell_type": "code",
      "execution_count": 87,
      "metadata": {
        "id": "1T8kucyWPj_n"
      },
      "outputs": [],
      "source": [
        "# TEST\n",
        "# convenience_sample.num_columns == 11"
      ]
    },
    {
      "cell_type": "code",
      "execution_count": 89,
      "metadata": {
        "id": "4N4kZNwiPj_o"
      },
      "outputs": [],
      "source": [
        "# TEST\n",
        "# convenience_sample.num_rows == 44\n",
        "\n"
      ]
    },
    {
      "cell_type": "markdown",
      "metadata": {
        "id": "c3j-UXirPj_o"
      },
      "source": [
        "### Question 3 (10 points) \n",
        "\n",
        "Assign convenience_stats to an array of the average age and average salary of your convenience sample, using the compute_statistics function. Since they're computed on a sample, these are called sample averages."
      ]
    },
    {
      "cell_type": "code",
      "execution_count": 76,
      "metadata": {
        "id": "lwzBaCjEPj_o",
        "colab": {
          "base_uri": "https://localhost:8080/",
          "height": 671
        },
        "outputId": "39e353a3-8389-4992-efe9-6b67245e5a6d"
      },
      "outputs": [
        {
          "output_type": "stream",
          "name": "stdout",
          "text": [
            "[[26.536585365853657, 4269775.7662601629], [26.536585365853657, 4269775.7662601629], [26.536585365853657, 4269775.7662601629], [26.536585365853657, 4269775.7662601629], [20.363636363636363, 2383533.8181818184]]\n"
          ]
        },
        {
          "output_type": "display_data",
          "data": {
            "text/plain": [
              "<Figure size 432x288 with 1 Axes>"
            ],
            "image/png": "[encoded data removed]"
          },
          "metadata": {}
        },
        {
          "output_type": "display_data",
          "data": {
            "text/plain": [
              "<Figure size 432x288 with 1 Axes>"
            ],
            "image/png": "[encoded data removed]"
          },
          "metadata": {}
        }
      ],
      "source": [
        "convenience_stats = compute_statistics(convenience_sample)\n",
        "convenience_stats\n",
        "\n"
      ]
    },
    {
      "cell_type": "code",
      "execution_count": 90,
      "metadata": {
        "id": "JMW9ZIQGPj_o"
      },
      "outputs": [],
      "source": [
        "# TEST\n",
        "# len(convenience_stats) == 2\n",
        "\n"
      ]
    },
    {
      "cell_type": "code",
      "execution_count": 91,
      "metadata": {
        "id": "R-WOQ35jPj_p"
      },
      "outputs": [],
      "source": [
        "# TEST \n",
        "# round(float(convenience_stats[0]), 2) == 20.36\n",
        "\n"
      ]
    },
    {
      "cell_type": "code",
      "execution_count": 92,
      "metadata": {
        "id": "NmT2JndQPj_p"
      },
      "outputs": [],
      "source": [
        "# TEST\n",
        "# round(float(convenience_stats[1]), 2) == 2383533.82\n",
        "\n"
      ]
    },
    {
      "cell_type": "markdown",
      "metadata": {
        "id": "Ou-3jkjOPj_p"
      },
      "source": [
        "Next, we'll compare the convenience sample salaries with the full data salaries in a single histogram. To do that, we'll need to use the bin_column option of the hist method, which indicates that all columns are counts of the bins in a particular column. The following cell does not require any changes; just run it."
      ]
    },
    {
      "cell_type": "code",
      "execution_count": 96,
      "metadata": {
        "id": "YfxNAnsOPj_q",
        "colab": {
          "base_uri": "https://localhost:8080/",
          "height": 603
        },
        "outputId": "f6d83229-9100-4330-c4f0-f8f655f0c200"
      },
      "outputs": [
        {
          "output_type": "error",
          "ename": "ValueError",
          "evalue": "ignored",
          "traceback": [
            "\u001b[0;31m---------------------------------------------------------------------------\u001b[0m",
            "\u001b[0;31mKeyError\u001b[0m                                  Traceback (most recent call last)",
            "\u001b[0;32m/usr/local/lib/python3.7/dist-packages/pandas/core/indexes/base.py\u001b[0m in \u001b[0;36mget_loc\u001b[0;34m(self, key, method, tolerance)\u001b[0m\n\u001b[1;32m   3360\u001b[0m             \u001b[0;32mtry\u001b[0m\u001b[0;34m:\u001b[0m\u001b[0;34m\u001b[0m\u001b[0;34m\u001b[0m\u001b[0m\n\u001b[0;32m-> 3361\u001b[0;31m                 \u001b[0;32mreturn\u001b[0m \u001b[0mself\u001b[0m\u001b[0;34m.\u001b[0m\u001b[0m_engine\u001b[0m\u001b[0;34m.\u001b[0m\u001b[0mget_loc\u001b[0m\u001b[0;34m(\u001b[0m\u001b[0mcasted_key\u001b[0m\u001b[0;34m)\u001b[0m\u001b[0;34m\u001b[0m\u001b[0;34m\u001b[0m\u001b[0m\n\u001b[0m\u001b[1;32m   3362\u001b[0m             \u001b[0;32mexcept\u001b[0m \u001b[0mKeyError\u001b[0m \u001b[0;32mas\u001b[0m \u001b[0merr\u001b[0m\u001b[0;34m:\u001b[0m\u001b[0;34m\u001b[0m\u001b[0;34m\u001b[0m\u001b[0m\n",
            "\u001b[0;32m/usr/local/lib/python3.7/dist-packages/pandas/_libs/index.pyx\u001b[0m in \u001b[0;36mpandas._libs.index.IndexEngine.get_loc\u001b[0;34m()\u001b[0m\n",
            "\u001b[0;32m/usr/local/lib/python3.7/dist-packages/pandas/_libs/index.pyx\u001b[0m in \u001b[0;36mpandas._libs.index.IndexEngine.get_loc\u001b[0;34m()\u001b[0m\n",
            "\u001b[0;32mpandas/_libs/hashtable_class_helper.pxi\u001b[0m in \u001b[0;36mpandas._libs.hashtable.PyObjectHashTable.get_item\u001b[0;34m()\u001b[0m\n",
            "\u001b[0;32mpandas/_libs/hashtable_class_helper.pxi\u001b[0m in \u001b[0;36mpandas._libs.hashtable.PyObjectHashTable.get_item\u001b[0;34m()\u001b[0m\n",
            "\u001b[0;31mKeyError\u001b[0m: 'Salary'",
            "\nThe above exception was the direct cause of the following exception:\n",
            "\u001b[0;31mKeyError\u001b[0m                                  Traceback (most recent call last)",
            "\u001b[0;32m/usr/local/lib/python3.7/dist-packages/pandas/core/frame.py\u001b[0m in \u001b[0;36m_set_item_mgr\u001b[0;34m(self, key, value)\u001b[0m\n\u001b[1;32m   3750\u001b[0m         \u001b[0;32mtry\u001b[0m\u001b[0;34m:\u001b[0m\u001b[0;34m\u001b[0m\u001b[0;34m\u001b[0m\u001b[0m\n\u001b[0;32m-> 3751\u001b[0;31m             \u001b[0mloc\u001b[0m \u001b[0;34m=\u001b[0m \u001b[0mself\u001b[0m\u001b[0;34m.\u001b[0m\u001b[0m_info_axis\u001b[0m\u001b[0;34m.\u001b[0m\u001b[0mget_loc\u001b[0m\u001b[0;34m(\u001b[0m\u001b[0mkey\u001b[0m\u001b[0;34m)\u001b[0m\u001b[0;34m\u001b[0m\u001b[0;34m\u001b[0m\u001b[0m\n\u001b[0m\u001b[1;32m   3752\u001b[0m         \u001b[0;32mexcept\u001b[0m \u001b[0mKeyError\u001b[0m\u001b[0;34m:\u001b[0m\u001b[0;34m\u001b[0m\u001b[0;34m\u001b[0m\u001b[0m\n",
            "\u001b[0;32m/usr/local/lib/python3.7/dist-packages/pandas/core/indexes/base.py\u001b[0m in \u001b[0;36mget_loc\u001b[0;34m(self, key, method, tolerance)\u001b[0m\n\u001b[1;32m   3362\u001b[0m             \u001b[0;32mexcept\u001b[0m \u001b[0mKeyError\u001b[0m \u001b[0;32mas\u001b[0m \u001b[0merr\u001b[0m\u001b[0;34m:\u001b[0m\u001b[0;34m\u001b[0m\u001b[0;34m\u001b[0m\u001b[0m\n\u001b[0;32m-> 3363\u001b[0;31m                 \u001b[0;32mraise\u001b[0m \u001b[0mKeyError\u001b[0m\u001b[0;34m(\u001b[0m\u001b[0mkey\u001b[0m\u001b[0;34m)\u001b[0m \u001b[0;32mfrom\u001b[0m \u001b[0merr\u001b[0m\u001b[0;34m\u001b[0m\u001b[0;34m\u001b[0m\u001b[0m\n\u001b[0m\u001b[1;32m   3364\u001b[0m \u001b[0;34m\u001b[0m\u001b[0m\n",
            "\u001b[0;31mKeyError\u001b[0m: 'Salary'",
            "\nDuring handling of the above exception, another exception occurred:\n",
            "\u001b[0;31mValueError\u001b[0m                                Traceback (most recent call last)",
            "\u001b[0;32m<ipython-input-96-1c5cefa7f94a>\u001b[0m in \u001b[0;36m<module>\u001b[0;34m()\u001b[0m\n\u001b[1;32m     14\u001b[0m     \u001b[0mplt\u001b[0m\u001b[0;34m.\u001b[0m\u001b[0mtitle\u001b[0m\u001b[0;34m(\u001b[0m\u001b[0;34m'Salaries for all players and convenience sample'\u001b[0m\u001b[0;34m)\u001b[0m\u001b[0;34m\u001b[0m\u001b[0;34m\u001b[0m\u001b[0m\n\u001b[1;32m     15\u001b[0m \u001b[0;34m\u001b[0m\u001b[0m\n\u001b[0;32m---> 16\u001b[0;31m \u001b[0mcompare_salaries\u001b[0m\u001b[0;34m(\u001b[0m\u001b[0mfull_data\u001b[0m\u001b[0;34m,\u001b[0m \u001b[0mconvenience_sample\u001b[0m\u001b[0;34m,\u001b[0m \u001b[0;34m'All Players'\u001b[0m\u001b[0;34m,\u001b[0m \u001b[0;34m'Convenience Sample'\u001b[0m\u001b[0;34m)\u001b[0m\u001b[0;34m\u001b[0m\u001b[0;34m\u001b[0m\u001b[0m\n\u001b[0m",
            "\u001b[0;32m<ipython-input-96-1c5cefa7f94a>\u001b[0m in \u001b[0;36mcompare_salaries\u001b[0;34m(first, second, first_title, second_title)\u001b[0m\n\u001b[1;32m      6\u001b[0m     \u001b[0msecond_tbl_millions\u001b[0m \u001b[0;34m=\u001b[0m \u001b[0msecond\u001b[0m\u001b[0;34m.\u001b[0m\u001b[0mdrop\u001b[0m\u001b[0;34m(\u001b[0m\u001b[0;34m'Salary'\u001b[0m\u001b[0;34m,\u001b[0m \u001b[0maxis\u001b[0m \u001b[0;34m=\u001b[0m \u001b[0;36m1\u001b[0m\u001b[0;34m)\u001b[0m\u001b[0;34m\u001b[0m\u001b[0;34m\u001b[0m\u001b[0m\n\u001b[1;32m      7\u001b[0m     \u001b[0mfirst_tbl_millions\u001b[0m\u001b[0;34m[\u001b[0m\u001b[0;34m'Salary'\u001b[0m\u001b[0;34m]\u001b[0m \u001b[0;34m=\u001b[0m \u001b[0mfirst_salary_in_millions\u001b[0m\u001b[0;34m\u001b[0m\u001b[0;34m\u001b[0m\u001b[0m\n\u001b[0;32m----> 8\u001b[0;31m     \u001b[0msecond_tbl_millions\u001b[0m\u001b[0;34m[\u001b[0m\u001b[0;34m'Salary'\u001b[0m\u001b[0;34m]\u001b[0m \u001b[0;34m=\u001b[0m \u001b[0msecond_tbl_millions\u001b[0m\u001b[0;34m\u001b[0m\u001b[0;34m\u001b[0m\u001b[0m\n\u001b[0m\u001b[1;32m      9\u001b[0m     \u001b[0mmax_salary\u001b[0m \u001b[0;34m=\u001b[0m \u001b[0mmax\u001b[0m\u001b[0;34m(\u001b[0m\u001b[0mnp\u001b[0m\u001b[0;34m.\u001b[0m\u001b[0mappend\u001b[0m\u001b[0;34m(\u001b[0m\u001b[0mfirst_tbl_millions\u001b[0m\u001b[0;34m[\u001b[0m\u001b[0;34m'Salary'\u001b[0m\u001b[0;34m]\u001b[0m\u001b[0;34m,\u001b[0m \u001b[0msecond_tbl_millions\u001b[0m\u001b[0;34m[\u001b[0m\u001b[0;34m'Salary'\u001b[0m\u001b[0;34m]\u001b[0m\u001b[0;34m)\u001b[0m\u001b[0;34m)\u001b[0m\u001b[0;34m\u001b[0m\u001b[0;34m\u001b[0m\u001b[0m\n\u001b[1;32m     10\u001b[0m     \u001b[0mbins\u001b[0m \u001b[0;34m=\u001b[0m \u001b[0mnp\u001b[0m\u001b[0;34m.\u001b[0m\u001b[0marange\u001b[0m\u001b[0;34m(\u001b[0m\u001b[0;36m0\u001b[0m\u001b[0;34m,\u001b[0m \u001b[0mmax_salary\u001b[0m\u001b[0;34m+\u001b[0m\u001b[0;36m1\u001b[0m\u001b[0;34m,\u001b[0m \u001b[0;36m1\u001b[0m\u001b[0;34m)\u001b[0m\u001b[0;34m\u001b[0m\u001b[0;34m\u001b[0m\u001b[0m\n",
            "\u001b[0;32m/usr/local/lib/python3.7/dist-packages/pandas/core/frame.py\u001b[0m in \u001b[0;36m__setitem__\u001b[0;34m(self, key, value)\u001b[0m\n\u001b[1;32m   3600\u001b[0m             \u001b[0mself\u001b[0m\u001b[0;34m.\u001b[0m\u001b[0m_setitem_array\u001b[0m\u001b[0;34m(\u001b[0m\u001b[0mkey\u001b[0m\u001b[0;34m,\u001b[0m \u001b[0mvalue\u001b[0m\u001b[0;34m)\u001b[0m\u001b[0;34m\u001b[0m\u001b[0;34m\u001b[0m\u001b[0m\n\u001b[1;32m   3601\u001b[0m         \u001b[0;32melif\u001b[0m \u001b[0misinstance\u001b[0m\u001b[0;34m(\u001b[0m\u001b[0mvalue\u001b[0m\u001b[0;34m,\u001b[0m \u001b[0mDataFrame\u001b[0m\u001b[0;34m)\u001b[0m\u001b[0;34m:\u001b[0m\u001b[0;34m\u001b[0m\u001b[0;34m\u001b[0m\u001b[0m\n\u001b[0;32m-> 3602\u001b[0;31m             \u001b[0mself\u001b[0m\u001b[0;34m.\u001b[0m\u001b[0m_set_item_frame_value\u001b[0m\u001b[0;34m(\u001b[0m\u001b[0mkey\u001b[0m\u001b[0;34m,\u001b[0m \u001b[0mvalue\u001b[0m\u001b[0;34m)\u001b[0m\u001b[0;34m\u001b[0m\u001b[0;34m\u001b[0m\u001b[0m\n\u001b[0m\u001b[1;32m   3603\u001b[0m         elif (\n\u001b[1;32m   3604\u001b[0m             \u001b[0mis_list_like\u001b[0m\u001b[0;34m(\u001b[0m\u001b[0mvalue\u001b[0m\u001b[0;34m)\u001b[0m\u001b[0;34m\u001b[0m\u001b[0;34m\u001b[0m\u001b[0m\n",
            "\u001b[0;32m/usr/local/lib/python3.7/dist-packages/pandas/core/frame.py\u001b[0m in \u001b[0;36m_set_item_frame_value\u001b[0;34m(self, key, value)\u001b[0m\n\u001b[1;32m   3740\u001b[0m         \u001b[0;31m# now align rows\u001b[0m\u001b[0;34m\u001b[0m\u001b[0;34m\u001b[0m\u001b[0;34m\u001b[0m\u001b[0m\n\u001b[1;32m   3741\u001b[0m         \u001b[0marraylike\u001b[0m \u001b[0;34m=\u001b[0m \u001b[0m_reindex_for_setitem\u001b[0m\u001b[0;34m(\u001b[0m\u001b[0mvalue\u001b[0m\u001b[0;34m,\u001b[0m \u001b[0mself\u001b[0m\u001b[0;34m.\u001b[0m\u001b[0mindex\u001b[0m\u001b[0;34m)\u001b[0m\u001b[0;34m\u001b[0m\u001b[0;34m\u001b[0m\u001b[0m\n\u001b[0;32m-> 3742\u001b[0;31m         \u001b[0mself\u001b[0m\u001b[0;34m.\u001b[0m\u001b[0m_set_item_mgr\u001b[0m\u001b[0;34m(\u001b[0m\u001b[0mkey\u001b[0m\u001b[0;34m,\u001b[0m \u001b[0marraylike\u001b[0m\u001b[0;34m)\u001b[0m\u001b[0;34m\u001b[0m\u001b[0;34m\u001b[0m\u001b[0m\n\u001b[0m\u001b[1;32m   3743\u001b[0m \u001b[0;34m\u001b[0m\u001b[0m\n\u001b[1;32m   3744\u001b[0m     \u001b[0;32mdef\u001b[0m \u001b[0m_iset_item_mgr\u001b[0m\u001b[0;34m(\u001b[0m\u001b[0mself\u001b[0m\u001b[0;34m,\u001b[0m \u001b[0mloc\u001b[0m\u001b[0;34m:\u001b[0m \u001b[0mint\u001b[0m \u001b[0;34m|\u001b[0m \u001b[0mslice\u001b[0m \u001b[0;34m|\u001b[0m \u001b[0mnp\u001b[0m\u001b[0;34m.\u001b[0m\u001b[0mndarray\u001b[0m\u001b[0;34m,\u001b[0m \u001b[0mvalue\u001b[0m\u001b[0;34m)\u001b[0m \u001b[0;34m->\u001b[0m \u001b[0;32mNone\u001b[0m\u001b[0;34m:\u001b[0m\u001b[0;34m\u001b[0m\u001b[0;34m\u001b[0m\u001b[0m\n",
            "\u001b[0;32m/usr/local/lib/python3.7/dist-packages/pandas/core/frame.py\u001b[0m in \u001b[0;36m_set_item_mgr\u001b[0;34m(self, key, value)\u001b[0m\n\u001b[1;32m   3752\u001b[0m         \u001b[0;32mexcept\u001b[0m \u001b[0mKeyError\u001b[0m\u001b[0;34m:\u001b[0m\u001b[0;34m\u001b[0m\u001b[0;34m\u001b[0m\u001b[0m\n\u001b[1;32m   3753\u001b[0m             \u001b[0;31m# This item wasn't present, just insert at end\u001b[0m\u001b[0;34m\u001b[0m\u001b[0;34m\u001b[0m\u001b[0;34m\u001b[0m\u001b[0m\n\u001b[0;32m-> 3754\u001b[0;31m             \u001b[0mself\u001b[0m\u001b[0;34m.\u001b[0m\u001b[0m_mgr\u001b[0m\u001b[0;34m.\u001b[0m\u001b[0minsert\u001b[0m\u001b[0;34m(\u001b[0m\u001b[0mlen\u001b[0m\u001b[0;34m(\u001b[0m\u001b[0mself\u001b[0m\u001b[0;34m.\u001b[0m\u001b[0m_info_axis\u001b[0m\u001b[0;34m)\u001b[0m\u001b[0;34m,\u001b[0m \u001b[0mkey\u001b[0m\u001b[0;34m,\u001b[0m \u001b[0mvalue\u001b[0m\u001b[0;34m)\u001b[0m\u001b[0;34m\u001b[0m\u001b[0;34m\u001b[0m\u001b[0m\n\u001b[0m\u001b[1;32m   3755\u001b[0m         \u001b[0;32melse\u001b[0m\u001b[0;34m:\u001b[0m\u001b[0;34m\u001b[0m\u001b[0;34m\u001b[0m\u001b[0m\n\u001b[1;32m   3756\u001b[0m             \u001b[0mself\u001b[0m\u001b[0;34m.\u001b[0m\u001b[0m_iset_item_mgr\u001b[0m\u001b[0;34m(\u001b[0m\u001b[0mloc\u001b[0m\u001b[0;34m,\u001b[0m \u001b[0mvalue\u001b[0m\u001b[0;34m)\u001b[0m\u001b[0;34m\u001b[0m\u001b[0;34m\u001b[0m\u001b[0m\n",
            "\u001b[0;32m/usr/local/lib/python3.7/dist-packages/pandas/core/internals/managers.py\u001b[0m in \u001b[0;36minsert\u001b[0;34m(self, loc, item, value)\u001b[0m\n\u001b[1;32m   1160\u001b[0m             \u001b[0mvalue\u001b[0m \u001b[0;34m=\u001b[0m \u001b[0mensure_block_shape\u001b[0m\u001b[0;34m(\u001b[0m\u001b[0mvalue\u001b[0m\u001b[0;34m,\u001b[0m \u001b[0mndim\u001b[0m\u001b[0;34m=\u001b[0m\u001b[0mself\u001b[0m\u001b[0;34m.\u001b[0m\u001b[0mndim\u001b[0m\u001b[0;34m)\u001b[0m\u001b[0;34m\u001b[0m\u001b[0;34m\u001b[0m\u001b[0m\n\u001b[1;32m   1161\u001b[0m \u001b[0;34m\u001b[0m\u001b[0m\n\u001b[0;32m-> 1162\u001b[0;31m         \u001b[0mblock\u001b[0m \u001b[0;34m=\u001b[0m \u001b[0mnew_block\u001b[0m\u001b[0;34m(\u001b[0m\u001b[0mvalues\u001b[0m\u001b[0;34m=\u001b[0m\u001b[0mvalue\u001b[0m\u001b[0;34m,\u001b[0m \u001b[0mndim\u001b[0m\u001b[0;34m=\u001b[0m\u001b[0mself\u001b[0m\u001b[0;34m.\u001b[0m\u001b[0mndim\u001b[0m\u001b[0;34m,\u001b[0m \u001b[0mplacement\u001b[0m\u001b[0;34m=\u001b[0m\u001b[0mslice\u001b[0m\u001b[0;34m(\u001b[0m\u001b[0mloc\u001b[0m\u001b[0;34m,\u001b[0m \u001b[0mloc\u001b[0m \u001b[0;34m+\u001b[0m \u001b[0;36m1\u001b[0m\u001b[0;34m)\u001b[0m\u001b[0;34m)\u001b[0m\u001b[0;34m\u001b[0m\u001b[0;34m\u001b[0m\u001b[0m\n\u001b[0m\u001b[1;32m   1163\u001b[0m \u001b[0;34m\u001b[0m\u001b[0m\n\u001b[1;32m   1164\u001b[0m         \u001b[0;32mfor\u001b[0m \u001b[0mblkno\u001b[0m\u001b[0;34m,\u001b[0m \u001b[0mcount\u001b[0m \u001b[0;32min\u001b[0m \u001b[0m_fast_count_smallints\u001b[0m\u001b[0;34m(\u001b[0m\u001b[0mself\u001b[0m\u001b[0;34m.\u001b[0m\u001b[0mblknos\u001b[0m\u001b[0;34m[\u001b[0m\u001b[0mloc\u001b[0m\u001b[0;34m:\u001b[0m\u001b[0;34m]\u001b[0m\u001b[0;34m)\u001b[0m\u001b[0;34m:\u001b[0m\u001b[0;34m\u001b[0m\u001b[0;34m\u001b[0m\u001b[0m\n",
            "\u001b[0;32m/usr/local/lib/python3.7/dist-packages/pandas/core/internals/blocks.py\u001b[0m in \u001b[0;36mnew_block\u001b[0;34m(values, placement, ndim, klass)\u001b[0m\n\u001b[1;32m   1935\u001b[0m \u001b[0;34m\u001b[0m\u001b[0m\n\u001b[1;32m   1936\u001b[0m     \u001b[0mvalues\u001b[0m\u001b[0;34m,\u001b[0m \u001b[0m_\u001b[0m \u001b[0;34m=\u001b[0m \u001b[0mextract_pandas_array\u001b[0m\u001b[0;34m(\u001b[0m\u001b[0mvalues\u001b[0m\u001b[0;34m,\u001b[0m \u001b[0;32mNone\u001b[0m\u001b[0;34m,\u001b[0m \u001b[0mndim\u001b[0m\u001b[0;34m)\u001b[0m\u001b[0;34m\u001b[0m\u001b[0;34m\u001b[0m\u001b[0m\n\u001b[0;32m-> 1937\u001b[0;31m     \u001b[0mcheck_ndim\u001b[0m\u001b[0;34m(\u001b[0m\u001b[0mvalues\u001b[0m\u001b[0;34m,\u001b[0m \u001b[0mplacement\u001b[0m\u001b[0;34m,\u001b[0m \u001b[0mndim\u001b[0m\u001b[0;34m)\u001b[0m\u001b[0;34m\u001b[0m\u001b[0;34m\u001b[0m\u001b[0m\n\u001b[0m\u001b[1;32m   1938\u001b[0m \u001b[0;34m\u001b[0m\u001b[0m\n\u001b[1;32m   1939\u001b[0m     \u001b[0;32mif\u001b[0m \u001b[0mklass\u001b[0m \u001b[0;32mis\u001b[0m \u001b[0;32mNone\u001b[0m\u001b[0;34m:\u001b[0m\u001b[0;34m\u001b[0m\u001b[0;34m\u001b[0m\u001b[0m\n",
            "\u001b[0;32m/usr/local/lib/python3.7/dist-packages/pandas/core/internals/blocks.py\u001b[0m in \u001b[0;36mcheck_ndim\u001b[0;34m(values, placement, ndim)\u001b[0m\n\u001b[1;32m   1978\u001b[0m         \u001b[0;32mif\u001b[0m \u001b[0mlen\u001b[0m\u001b[0;34m(\u001b[0m\u001b[0mplacement\u001b[0m\u001b[0;34m)\u001b[0m \u001b[0;34m!=\u001b[0m \u001b[0mlen\u001b[0m\u001b[0;34m(\u001b[0m\u001b[0mvalues\u001b[0m\u001b[0;34m)\u001b[0m\u001b[0;34m:\u001b[0m\u001b[0;34m\u001b[0m\u001b[0;34m\u001b[0m\u001b[0m\n\u001b[1;32m   1979\u001b[0m             raise ValueError(\n\u001b[0;32m-> 1980\u001b[0;31m                 \u001b[0;34mf\"Wrong number of items passed {len(values)}, \"\u001b[0m\u001b[0;34m\u001b[0m\u001b[0;34m\u001b[0m\u001b[0m\n\u001b[0m\u001b[1;32m   1981\u001b[0m                 \u001b[0;34mf\"placement implies {len(placement)}\"\u001b[0m\u001b[0;34m\u001b[0m\u001b[0;34m\u001b[0m\u001b[0m\n\u001b[1;32m   1982\u001b[0m             )\n",
            "\u001b[0;31mValueError\u001b[0m: Wrong number of items passed 9, placement implies 1"
          ]
        }
      ],
      "source": [
        "def compare_salaries(first, second, first_title, second_title):\n",
        "    \"\"\"Compare the salaries in two tables.\"\"\"\n",
        "    first_salary_in_millions = first['Salary']/1000000\n",
        "    second_salary_in_millions = second['Salary']/1000000\n",
        "    first_tbl_millions = first.drop('Salary', axis = 1)\n",
        "    second_tbl_millions = second.drop('Salary', axis = 1)\n",
        "    first_tbl_millions['Salary'] = first_salary_in_millions\n",
        "    second_tbl_millions['Salary'] = second_tbl_millions\n",
        "    max_salary = max(np.append(first_tbl_millions['Salary'], second_tbl_millions['Salary']))\n",
        "    bins = np.arange(0, max_salary+1, 1)\n",
        "    first_binned = first_tbl_millions.bin('Salary', bins=bins)\n",
        "    second_binned = second_tbl_millions.bin('Salary', bins=bins)\n",
        "    first_binned.join('bin', second_binned).hist(bin_column='bin', unit='million dollars')\n",
        "    plt.title('Salaries for all players and convenience sample')\n",
        "\n",
        "compare_salaries(full_data, convenience_sample, 'All Players', 'Convenience Sample')"
      ]
    },
    {
      "cell_type": "markdown",
      "metadata": {
        "id": "xihk0mIJPj_q"
      },
      "source": [
        "### Question 4 (10 points) \n",
        "Does the convenience sample give us an accurate picture of the salary of the full population? Would you expect it to, in general? Before you move on, write a short answer in English below. You can refer to the statistics calculated above or perform your own analysis."
      ]
    },
    {
      "cell_type": "code",
      "execution_count": null,
      "metadata": {
        "id": "e9wmwbKOPj_q"
      },
      "outputs": [],
      "source": [
        "### Please write your answer here (no code required)\n",
        "\n",
        "\"\"\"\n",
        "Answer: \n",
        "\n",
        "\n",
        "\n",
        "\"\"\""
      ]
    },
    {
      "cell_type": "markdown",
      "metadata": {
        "id": "wfN1fBeMPj_q"
      },
      "source": [
        "### Simple random sampling\n",
        "A more justifiable approach is to sample uniformly at random from the players.  In a **simple random sample (SRS) without replacement**, we ensure that each player is selected at most once. Imagine writing down each player's name on a card, putting the cards in an box, and shuffling the box.  Then, pull out cards one by one and set them aside, stopping when the specified sample size is reached."
      ]
    },
    {
      "cell_type": "markdown",
      "metadata": {
        "id": "UKMSDz5PPj_r"
      },
      "source": [
        "### Producing simple random samples\n",
        "Sometimes, it’s useful to take random samples even when we have the data for the whole population. It helps us understand sampling accuracy.\n",
        "\n",
        "### `sample`\n",
        "\n",
        "The table method `sample` produces a random sample from the table. By default, it draws at random **with replacement** from the rows of a table. It takes in the sample size as its argument and returns a **table** with only the rows that were selected. \n",
        "\n",
        "Run the cell below to see an example call to `sample()` with a sample size of 5, with replacement."
      ]
    },
    {
      "cell_type": "code",
      "execution_count": null,
      "metadata": {
        "id": "l-D8Usc2Pj_r"
      },
      "outputs": [],
      "source": [
        "# Just run this cell\n",
        "\n",
        "salary_data.sample(5)"
      ]
    },
    {
      "cell_type": "markdown",
      "metadata": {
        "id": "a3zMQZvhPj_r"
      },
      "source": [
        "The optional argument with_replacement=False can be passed through sample() to specify that the sample should be drawn without replacement.\n",
        "\n",
        "Run the cell below to see an example call to sample() with a sample size of 5, without replacement."
      ]
    },
    {
      "cell_type": "code",
      "execution_count": null,
      "metadata": {
        "id": "7TRNRjauPj_r"
      },
      "outputs": [],
      "source": [
        "# Just run this cell\n",
        "\n",
        "salary_data.sample(5, with_replacement=False)"
      ]
    },
    {
      "cell_type": "markdown",
      "metadata": {
        "id": "o6l_WI56Pj_s"
      },
      "source": [
        "### Question 5 (10 points) \n",
        "Produce a simple random sample of size 44 from `full_data`. Run your analysis on it again.  Run the cell a few times to see how the histograms and statistics change across different samples."
      ]
    },
    {
      "cell_type": "code",
      "execution_count": null,
      "metadata": {
        "id": "cQy2lSyxPj_s"
      },
      "outputs": [],
      "source": [
        "my_small_srswor_data = ...\n",
        "my_small_stats = ...\n",
        "my_small_stats"
      ]
    },
    {
      "cell_type": "markdown",
      "metadata": {
        "id": "a4bqAxOaPj_s"
      },
      "source": [
        "Before you move on, write a short answer for the following questions in English:\n",
        "\n",
        "(1) How much does the average age change across samples?\n",
        "\n",
        "(2) What about average salary?"
      ]
    },
    {
      "cell_type": "code",
      "execution_count": null,
      "metadata": {
        "id": "aZaLHMd9Pj_s"
      },
      "outputs": [],
      "source": [
        "### Please write your answer here (no code required)\n",
        "\n",
        "\"\"\"\n",
        "Answer: \n",
        "\n",
        "\n",
        "\n",
        "\"\"\""
      ]
    },
    {
      "cell_type": "markdown",
      "metadata": {
        "id": "9ZynesJDPj_t"
      },
      "source": [
        "### Question 6 (15 points) - Optional/ Additional extra credit if you loose marks on above questions\n",
        "As in the previous question, analyze several simple random samples of size 100 from `full_data`.  "
      ]
    },
    {
      "cell_type": "code",
      "execution_count": null,
      "metadata": {
        "id": "nMTZ9kLbPj_t"
      },
      "outputs": [],
      "source": [
        "my_large_srswor_data = ...\n",
        "my_large_stats = ...\n",
        "my_large_stats"
      ]
    },
    {
      "cell_type": "markdown",
      "metadata": {
        "id": "DI5SVwJHPj_t"
      },
      "source": [
        "Answer the following questions in English:\n",
        "\n",
        "(1) Do the histogram shapes seem to change more or less across samples of 100 than across samples of size 44?\n",
        "\n",
        "(2) Are the sample averages and histograms closer to their true values/shape for age or for salary? What did you expect to see?"
      ]
    },
    {
      "cell_type": "code",
      "execution_count": null,
      "metadata": {
        "id": "VsAEaOATPj_t"
      },
      "outputs": [],
      "source": [
        "### Please write your answer here (no code required)\n",
        "\n",
        "\"\"\"\n",
        "Answer: \n",
        "I am a bit confused because after doing some investigating, it looks like lots of this code is written using PySpark, but there are no instructions\n",
        "on downloading or using PySpark, and the code doesn't work without it. I don't think that it is very fair to include this in the homework with no PySpark \n",
        "instruction or guidance in the videos or notes. Cells mention \"code does not need any changes\", but in fact still do not run without being changed to\n",
        "run only off of Pandas and don't run without first figuring out how to install and use PySpark which is not mentioned anywhere.\n",
        "\n",
        "\"\"\""
      ]
    }
  ],
  "metadata": {
    "kernelspec": {
      "display_name": "Python 3 (ipykernel)",
      "language": "python",
      "name": "python3"
    },
    "language_info": {
      "codemirror_mode": {
        "name": "ipython",
        "version": 3
      },
      "file_extension": ".py",
      "mimetype": "text/x-python",
      "name": "python",
      "nbconvert_exporter": "python",
      "pygments_lexer": "ipython3",
      "version": "3.9.12"
    },
    "colab": {
      "name": "lab_assignment_07-3.ipynb",
      "provenance": [],
      "include_colab_link": true
    }
  },
  "nbformat": 4,
  "nbformat_minor": 0
}