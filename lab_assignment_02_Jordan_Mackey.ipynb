{
  "cells": [
    {
      "cell_type": "markdown",
      "metadata": {
        "id": "view-in-github",
        "colab_type": "text"
      },
      "source": [
        "<a href=\"https://colab.research.google.com/github/Jordan-mackey/INFO_5502_LABS/blob/main/lab_assignment_02_Jordan_Mackey.ipynb\" target=\"_parent\"><img src=\"https://colab.research.google.com/assets/colab-badge.svg\" alt=\"Open In Colab\"/></a>"
      ]
    },
    {
      "cell_type": "markdown",
      "metadata": {
        "id": "Ryk8D1Q4Wsrp"
      },
      "source": [
        "# **The second Lab-assignment (07/19/2022 11:59'AM' - 07/22/2022 11:59PM, 50 points in total)**"
      ]
    },
    {
      "cell_type": "markdown",
      "metadata": {
        "id": "90_NR8c5XGWc"
      },
      "source": [
        "# Question 1\n",
        "\n",
        "(5 points). Write a Python program to generate 12 random numbers between 1 and 100. Sort the list of numbers in ascending order and print it out. Sort the list of numbers in descending order and print it out. Calculate the average for the group and print it out."
      ]
    },
    {
      "cell_type": "code",
      "execution_count": 28,
      "metadata": {
        "colab": {
          "base_uri": "https://localhost:8080/"
        },
        "id": "5QX6bJjGWXY9",
        "outputId": "4e2bf43a-5195-4b90-cf03-8c699a500ab4"
      },
      "outputs": [
        {
          "output_type": "stream",
          "name": "stdout",
          "text": [
            "list of 12 random numbers 1-100:  [58, 80, 1, 98, 38, 51, 51, 45, 63, 82, 18, 44]\n",
            "list sorted in ascending order:  [1, 18, 38, 44, 45, 51, 51, 58, 63, 80, 82, 98]\n",
            "list sorted in descending order:  [98, 82, 80, 63, 58, 51, 51, 45, 44, 38, 18, 1]\n",
            "average of list:  52\n"
          ]
        }
      ],
      "source": [
        "from numpy.lib.function_base import average\n",
        "# Your code here\n",
        "\n",
        "# generate 12 numbers between 1-100\n",
        "import pandas as pd\n",
        "import numpy as np\n",
        "import random\n",
        "from statistics import mean\n",
        "\n",
        "numbers = list(np.random.randint(1,101,12))\n",
        "print(\"list of 12 random numbers 1-100: \", numbers)\n",
        "\n",
        "# sort list of numbers in ascending order\n",
        "numbers.sort()\n",
        "print(\"list sorted in ascending order: \", numbers)\n",
        "\n",
        "# sort list of numbers in reverse order\n",
        "numbers.sort(reverse = True)\n",
        "print(\"list sorted in descending order: \", numbers)\n",
        "\n",
        "# calculate average\n",
        "numbers_avg = mean(numbers)\n",
        "print(\"average of list: \", numbers_avg)\n"
      ]
    },
    {
      "cell_type": "markdown",
      "metadata": {
        "id": "CmFoI4jDS9nx"
      },
      "source": [
        "# Question 2 \n",
        "\n",
        "(5 points). The formula that describes the volume V of a sphere with radius r is the following:\n",
        "\n",
        "$ V=\\frac{4}{3}\\ast\\ \\pi\\ast\\ r^3 $\n",
        "\n",
        "Write a program to calculate the value of V when r is in the range of 1–10. Output the result in the following format:\n",
        "\n",
        "\tr\tV\n",
        "\t1\t…\n",
        "\t2\t…\n",
        "\t3\t…\n"
      ]
    },
    {
      "cell_type": "code",
      "execution_count": 127,
      "metadata": {
        "id": "pEyqeioAT95b",
        "colab": {
          "base_uri": "https://localhost:8080/"
        },
        "outputId": "b89a6eab-98aa-4ec9-8d24-e15daf079bcd"
      },
      "outputs": [
        {
          "output_type": "stream",
          "name": "stdout",
          "text": [
            "            V\n",
            "r            \n",
            "1  904.778684\n",
            "2  268.082573\n",
            "3  113.097336\n"
          ]
        }
      ],
      "source": [
        "# Your code here\n",
        "import math\n",
        "p = math.pi\n",
        "\n",
        "i = [1,2,3]\n",
        "vol = []\n",
        "def volume():\n",
        "  # create 3 r values to calculate corresponding v's\n",
        "  for i in range(3):\n",
        "    r = random.randint(1,11)\n",
        "    v = (4/3)*p*r**3\n",
        "    vol.append(v)\n",
        "  return vol\n",
        "\n",
        "#create dictionary/df\n",
        "\n",
        "volume()\n",
        "vol_dict = {\"r\":i, \"V\":vol}\n",
        "df = pd.DataFrame(vol_dict)\n",
        "df = df.set_index('r')\n",
        "print(df)"
      ]
    },
    {
      "cell_type": "markdown",
      "metadata": {
        "id": "z3tBE7E-Xn5X"
      },
      "source": [
        "# Question 3\n",
        "\n",
        "(40 points). In the field of Data Science, data is often formatted as a comma-delimited (CSV) file, where each line in a file corresponds to a field's value. Refer to Chapter 9 (p. 106) for more information on comma-delimited files. To answer this question, you will need to download the file [lab_assignment_02_denton_housing.csv](https://github.com/suthapalliuday/INFO5502-Summer2022/blob/main/datasets/lab_assignment_02_denton_housing.csv) included with this assignment. The file [lab_assignment_02_denton_housing.csv](https://github.com/suthapalliuday/INFO5502-Summer2022/blob/main/datasets/lab_assignment_02_denton_housing.csv) contains statistics about housing in the city of Denton from 2008 to 2014. Write a program to implement the following questions.\n",
        "\n",
        "(1) (10 pts) Calculate the difference in the number of Occupied Housing Units from year to year and print it. The difference must be calculated for the consecutive years such as 2008-2009, 2009-2010 etc. Finally, print the values in the ascending order.\n",
        "\n",
        "(2) (10 pts) For all the years, calculate the percentage of housing units which are vacant an occupied. Print the results in the following format:\n",
        "\n",
        "Year Vacant Housing Units Occupied Housing Units\n",
        "\n",
        "    2008  30%   70%                          \n",
        "\t2009 ----- -----\n",
        "\t2010 ----- -----\n",
        "    2011 ----- -----\n",
        "\t2012 ----- -----\n",
        "    2013 ----- -----\n",
        "\t2014 ----- -----\n",
        "  \n",
        "  \n",
        "\n",
        "(3) (10 pts) Calculate and print the valued and years in which the highest number of housing units were vacant and occupied. Print the results in the following format:  \n",
        "\n",
        "                              Year\tValue\n",
        "\tVacant Housing Units\t  -----   -----\n",
        "\tOccupied Housing Units\t-----   -----\n",
        "\n",
        "(4) (10 pts) Calculate the harmonic mean of the total housing units and print it out. You can find the information about harmonic mean here: https://ncalculators.com/statistics/harmonic-mean-calculator.htm"
      ]
    },
    {
      "cell_type": "code",
      "execution_count": 50,
      "metadata": {
        "id": "lqGYuHBhcsRH",
        "colab": {
          "base_uri": "https://localhost:8080/"
        },
        "outputId": "71e7220b-9690-4020-957b-49f1a328725b"
      },
      "outputs": [
        {
          "output_type": "stream",
          "name": "stdout",
          "text": [
            "Question #1: \n",
            "    year             title_field  value  yoy_difference\n",
            "2   2014  Occupied Housing Units  46295          2622.0\n",
            "5   2013  Occupied Housing Units  43673          1565.0\n",
            "8   2012  Occupied Housing Units  42108          1404.0\n",
            "11  2011  Occupied Housing Units  40704          -303.0\n",
            "14  2010  Occupied Housing Units  41007          5091.0\n",
            "17  2009  Occupied Housing Units  35916          -795.0\n",
            "20  2008  Occupied Housing Units  36711             NaN\n",
            "    year             title_field  value  yoy_difference\n",
            "17  2009  Occupied Housing Units  35916          -795.0\n",
            "20  2008  Occupied Housing Units  36711             NaN\n",
            "11  2011  Occupied Housing Units  40704          -303.0\n",
            "14  2010  Occupied Housing Units  41007          5091.0\n",
            "8   2012  Occupied Housing Units  42108          1404.0\n",
            "5   2013  Occupied Housing Units  43673          1565.0\n",
            "2   2014  Occupied Housing Units  46295          2622.0\n",
            "Question #2: \n",
            "   year             title_field  value\n",
            "0  2014     Total Housing Units  49109\n",
            "1  2014    Vacant Housing Units   2814\n",
            "2  2014  Occupied Housing Units  46295\n",
            "3  2013     Total Housing Units  47888\n",
            "4  2013    Vacant Housing Units   4215\n",
            "[2014, 2013, 2012, 2011, 2010, 2009, 2008]\n",
            "   year  occupied_houses  vacant_houses  total_houses\n",
            "0  2014            46295           2814         49109\n",
            "1  2013            43673           4215         47888\n",
            "2  2012            42108           3013         45121\n",
            "3  2011            40704           4213         44917\n",
            "4  2010            41007           3635         44642\n",
            "   year  pct_occupied  pct_vacant\n",
            "0  2014     94.269889    5.730111\n",
            "1  2013     91.198212    8.801788\n",
            "2  2012     93.322400    6.677600\n",
            "3  2011     90.620478    9.379522\n",
            "4  2010     91.857444    8.142556\n",
            "5  2009     90.928884    9.071116\n",
            "6  2008     89.117347   10.882653\n",
            "   year  occupied_houses  vacant_houses  total_houses  pct_occupied  \\\n",
            "0  2014            46295           2814         49109     94.269889   \n",
            "1  2013            43673           4215         47888     91.198212   \n",
            "2  2012            42108           3013         45121     93.322400   \n",
            "3  2011            40704           4213         44917     90.620478   \n",
            "4  2010            41007           3635         44642     91.857444   \n",
            "5  2009            35916           3583         39499     90.928884   \n",
            "6  2008            36711           4483         41194     89.117347   \n",
            "\n",
            "   pct_vacant  \n",
            "0    5.730111  \n",
            "1    8.801788  \n",
            "2    6.677600  \n",
            "3    9.379522  \n",
            "4    8.142556  \n",
            "5    9.071116  \n",
            "6   10.882653  \n",
            "4483\n",
            "   year  occupied_houses  vacant_houses  total_houses  pct_occupied  \\\n",
            "6  2008            36711           4483         41194     89.117347   \n",
            "\n",
            "   pct_vacant  \n",
            "6   10.882653  \n",
            "46295\n",
            "   year  occupied_houses  vacant_houses  total_houses  pct_occupied  \\\n",
            "0  2014            46295           2814         49109     94.269889   \n",
            "\n",
            "   pct_vacant  \n",
            "0    5.730111  \n",
            "                        Year  Max Value\n",
            "vacant_occupied                        \n",
            "Vacant Housing Units    2008       4483\n",
            "Occupied Housing Units  2014      46295\n",
            "harmonic mean of total houses:  44398.28543969185\n"
          ]
        },
        {
          "output_type": "stream",
          "name": "stderr",
          "text": [
            "/usr/local/lib/python3.7/dist-packages/ipykernel_launcher.py:21: SettingWithCopyWarning: \n",
            "A value is trying to be set on a copy of a slice from a DataFrame.\n",
            "Try using .loc[row_indexer,col_indexer] = value instead\n",
            "\n",
            "See the caveats in the documentation: https://pandas.pydata.org/pandas-docs/stable/user_guide/indexing.html#returning-a-view-versus-a-copy\n"
          ]
        }
      ],
      "source": [
        "# Your code here\n",
        "import requests\n",
        "import io\n",
        "    \n",
        "# Downloading the csv file from your GitHub account\n",
        "\n",
        "url = \"https://raw.githubusercontent.com/suthapalliuday/INFO5502-Summer2022/main/datasets/lab_assignment_02_denton_housing.csv\" # Make sure the url is the raw version of the file on GitHub\n",
        "download = requests.get(url).content\n",
        "\n",
        "# Reading the downloaded content and turning it into a pandas dataframe\n",
        "\n",
        "df = pd.read_csv(io.StringIO(download.decode('utf-8')))\n",
        "\n",
        "# 1. Calculate the difference in the number of Occupied Housing Units from year to year and print it. The difference must be calculated for the consecutive years such as 2008-2009, 2009-2010 etc. Finally, print the values in the ascending order\n",
        "print('Question #1: ')\n",
        "# Create new df with only Occupied Housing Units included for each year\n",
        "df2 = df[df['title_field'] == 'Occupied Housing Units']\n",
        "df2.head()\n",
        "\n",
        "# Create new column for year differences\n",
        "df2['yoy_difference'] = df2['value'].diff(-1)\n",
        "print(df2)\n",
        "\n",
        "# print values in ascending order\n",
        "print(df2.sort_values('value'))\n",
        "\n",
        "\n",
        "\n",
        "# 2. For all the years, calculate the percentage of housing units which are vacant an occupied. Print the results in the following format:\n",
        "print('Question #2: ')\n",
        "\n",
        "# must make new df with info\n",
        "print(df.head())\n",
        "\n",
        "# get individual years\n",
        "years = list(df['year'].unique())\n",
        "print(years)\n",
        "\n",
        "# get no of occupied & vacant houses for new column\n",
        "occupied_houses = df[df['title_field'] == 'Occupied Housing Units']\n",
        "vacant_houses = df[df['title_field'] == 'Vacant Housing Units']\n",
        "\n",
        "occupied_houses.sort_values(by=['year'])\n",
        "vacant_houses.sort_values(by=['year'])\n",
        "\n",
        "# define new dataframe\n",
        "\n",
        "df3 = pd.DataFrame()\n",
        "\n",
        "# start adding columns \n",
        "df3['year'] = years\n",
        "\n",
        "df3['occupied_houses'] = occupied_houses['value'].values\n",
        "df3['vacant_houses'] = vacant_houses['value'].values\n",
        "df3['total_houses'] = df3['occupied_houses']+df3['vacant_houses']\n",
        "print(df3.head())\n",
        "\n",
        "# get pct_occupied & pct_vacant\n",
        "\n",
        "df3['pct_occupied'] = (df3['occupied_houses']*100)/(df3['occupied_houses']+df3['vacant_houses'])\n",
        "\n",
        "df3['pct_vacant'] = (df3['vacant_houses']*100)/(df3['occupied_houses']+df3['vacant_houses'])\n",
        "\n",
        "\n",
        "df4 = df3.drop(['occupied_houses', 'vacant_houses', 'total_houses'], axis = 1)\n",
        "print(df4)\n",
        "\n",
        "# 3. Calculate and print the values and years in which the highest number of housing units were vacant and occupied. Print the results in the following format: \n",
        "\n",
        "# can use previously made df3\n",
        "\n",
        "print(df3)\n",
        "max_vacant = df3['vacant_houses'].max()\n",
        "print(max_vacant)\n",
        "\n",
        "max_vacant_df = df3[df3['vacant_houses'] == 4483]\n",
        "print(max_vacant_df)\n",
        "\n",
        "max_occupied = df3['occupied_houses'].max()\n",
        "print(max_occupied)\n",
        "max_occupied_df = df3[df3['occupied_houses'] == 46295]\n",
        "print(max_occupied_df)\n",
        "\n",
        "max_figures_df = pd.DataFrame()\n",
        "max_figures_df['vacant_occupied'] = ['Vacant Housing Units', 'Occupied Housing Units']\n",
        "max_figures_df['Year'] = [2008, 2014]\n",
        "max_figures_df['Max Value'] = [max_vacant, max_occupied]\n",
        "print(max_figures_df.set_index('vacant_occupied'))\n",
        "\n",
        "\n",
        "# 4. Calculate the harmonic mean of the total housing units and print it out. \n",
        "\n",
        "import statistics\n",
        "\n",
        "harmonic_mean_df = pd.DataFrame()\n",
        "harmonic_mean_df['year'] = years\n",
        "harmonic_mean_df['total_houses'] = df3['total_houses'].values\n",
        "print(\"harmonic mean of total houses: \", statistics.harmonic_mean(harmonic_mean_df['total_houses']))"
      ]
    }
  ],
  "metadata": {
    "colab": {
      "collapsed_sections": [],
      "name": "lab_assignment_02_Jordan_Mackey",
      "provenance": [],
      "include_colab_link": true
    },
    "kernelspec": {
      "display_name": "Python 3 (ipykernel)",
      "language": "python",
      "name": "python3"
    },
    "language_info": {
      "codemirror_mode": {
        "name": "ipython",
        "version": 3
      },
      "file_extension": ".py",
      "mimetype": "text/x-python",
      "name": "python",
      "nbconvert_exporter": "python",
      "pygments_lexer": "ipython3",
      "version": "3.9.12"
    }
  },
  "nbformat": 4,
  "nbformat_minor": 0
}